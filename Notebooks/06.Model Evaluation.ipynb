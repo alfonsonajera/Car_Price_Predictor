{
 "cells": [
  {
   "cell_type": "markdown",
   "id": "acb769f0",
   "metadata": {},
   "source": [
    "# 06. Model Evaluation & Improvement"
   ]
  },
  {
   "cell_type": "code",
   "execution_count": 1,
   "id": "3c08159a",
   "metadata": {},
   "outputs": [],
   "source": [
    "import pandas as pd\n",
    "import numpy as np\n",
    "import matplotlib.pyplot as plt\n",
    "%matplotlib inline\n",
    "\n",
    "from sklearn import metrics\n",
    "from sklearn import feature_selection\n",
    "\n",
    "from sklearn import model_selection\n",
    "from sklearn.linear_model import LinearRegression\n",
    "from sklearn.ensemble import RandomForestRegressor\n",
    "from sklearn.tree import DecisionTreeRegressor\n",
    "from sklearn.model_selection import train_test_split\n",
    "\n",
    "from sklearn.metrics import *"
   ]
  },
  {
   "cell_type": "code",
   "execution_count": 2,
   "id": "8ede7a9f",
   "metadata": {},
   "outputs": [
    {
     "data": {
      "text/html": [
       "<div>\n",
       "<style scoped>\n",
       "    .dataframe tbody tr th:only-of-type {\n",
       "        vertical-align: middle;\n",
       "    }\n",
       "\n",
       "    .dataframe tbody tr th {\n",
       "        vertical-align: top;\n",
       "    }\n",
       "\n",
       "    .dataframe thead th {\n",
       "        text-align: right;\n",
       "    }\n",
       "</style>\n",
       "<table border=\"1\" class=\"dataframe\">\n",
       "  <thead>\n",
       "    <tr style=\"text-align: right;\">\n",
       "      <th></th>\n",
       "      <th>Year</th>\n",
       "      <th>Kms</th>\n",
       "      <th>Hp</th>\n",
       "      <th>Fuel_cons</th>\n",
       "      <th>Doors</th>\n",
       "      <th>Gear_type_Automatic</th>\n",
       "      <th>Gear_type_Manual</th>\n",
       "      <th>Fuel_type_CNG</th>\n",
       "      <th>Fuel_type_Diesel</th>\n",
       "      <th>Fuel_type_Electric</th>\n",
       "      <th>...</th>\n",
       "      <th>Type_small</th>\n",
       "      <th>Type_suv</th>\n",
       "      <th>Type_van</th>\n",
       "      <th>Seller_Dealer</th>\n",
       "      <th>Seller_Private</th>\n",
       "      <th>Brand_encoded</th>\n",
       "      <th>Model_encoded</th>\n",
       "      <th>Colour_encoded</th>\n",
       "      <th>Province_encoded</th>\n",
       "      <th>Price_EUR</th>\n",
       "    </tr>\n",
       "  </thead>\n",
       "  <tbody>\n",
       "    <tr>\n",
       "      <th>0</th>\n",
       "      <td>2006</td>\n",
       "      <td>182510</td>\n",
       "      <td>68</td>\n",
       "      <td>4.4</td>\n",
       "      <td>5</td>\n",
       "      <td>0</td>\n",
       "      <td>1</td>\n",
       "      <td>0</td>\n",
       "      <td>1</td>\n",
       "      <td>0</td>\n",
       "      <td>...</td>\n",
       "      <td>1</td>\n",
       "      <td>0</td>\n",
       "      <td>0</td>\n",
       "      <td>1</td>\n",
       "      <td>0</td>\n",
       "      <td>10412.196983</td>\n",
       "      <td>8547.619048</td>\n",
       "      <td>15207.210252</td>\n",
       "      <td>22252.941248</td>\n",
       "      <td>2400</td>\n",
       "    </tr>\n",
       "    <tr>\n",
       "      <th>1</th>\n",
       "      <td>2017</td>\n",
       "      <td>67478</td>\n",
       "      <td>125</td>\n",
       "      <td>4.9</td>\n",
       "      <td>5</td>\n",
       "      <td>0</td>\n",
       "      <td>1</td>\n",
       "      <td>0</td>\n",
       "      <td>0</td>\n",
       "      <td>0</td>\n",
       "      <td>...</td>\n",
       "      <td>1</td>\n",
       "      <td>0</td>\n",
       "      <td>0</td>\n",
       "      <td>1</td>\n",
       "      <td>0</td>\n",
       "      <td>25546.556757</td>\n",
       "      <td>16731.591241</td>\n",
       "      <td>15207.210252</td>\n",
       "      <td>22252.941248</td>\n",
       "      <td>14990</td>\n",
       "    </tr>\n",
       "    <tr>\n",
       "      <th>2</th>\n",
       "      <td>2007</td>\n",
       "      <td>31510</td>\n",
       "      <td>98</td>\n",
       "      <td>6.6</td>\n",
       "      <td>5</td>\n",
       "      <td>0</td>\n",
       "      <td>1</td>\n",
       "      <td>0</td>\n",
       "      <td>0</td>\n",
       "      <td>0</td>\n",
       "      <td>...</td>\n",
       "      <td>1</td>\n",
       "      <td>0</td>\n",
       "      <td>0</td>\n",
       "      <td>1</td>\n",
       "      <td>0</td>\n",
       "      <td>11099.399408</td>\n",
       "      <td>9136.680000</td>\n",
       "      <td>15207.210252</td>\n",
       "      <td>22252.941248</td>\n",
       "      <td>4950</td>\n",
       "    </tr>\n",
       "    <tr>\n",
       "      <th>3</th>\n",
       "      <td>2017</td>\n",
       "      <td>34985</td>\n",
       "      <td>92</td>\n",
       "      <td>0.0</td>\n",
       "      <td>5</td>\n",
       "      <td>1</td>\n",
       "      <td>0</td>\n",
       "      <td>0</td>\n",
       "      <td>0</td>\n",
       "      <td>1</td>\n",
       "      <td>...</td>\n",
       "      <td>1</td>\n",
       "      <td>0</td>\n",
       "      <td>0</td>\n",
       "      <td>1</td>\n",
       "      <td>0</td>\n",
       "      <td>11099.399408</td>\n",
       "      <td>10966.931096</td>\n",
       "      <td>15207.210252</td>\n",
       "      <td>22252.941248</td>\n",
       "      <td>10830</td>\n",
       "    </tr>\n",
       "    <tr>\n",
       "      <th>4</th>\n",
       "      <td>2006</td>\n",
       "      <td>83700</td>\n",
       "      <td>174</td>\n",
       "      <td>6.2</td>\n",
       "      <td>5</td>\n",
       "      <td>0</td>\n",
       "      <td>1</td>\n",
       "      <td>0</td>\n",
       "      <td>0</td>\n",
       "      <td>0</td>\n",
       "      <td>...</td>\n",
       "      <td>1</td>\n",
       "      <td>0</td>\n",
       "      <td>0</td>\n",
       "      <td>1</td>\n",
       "      <td>0</td>\n",
       "      <td>17251.958184</td>\n",
       "      <td>19240.750000</td>\n",
       "      <td>15207.210252</td>\n",
       "      <td>22252.941248</td>\n",
       "      <td>9800</td>\n",
       "    </tr>\n",
       "  </tbody>\n",
       "</table>\n",
       "<p>5 rows × 29 columns</p>\n",
       "</div>"
      ],
      "text/plain": [
       "   Year     Kms   Hp  Fuel_cons  Doors  Gear_type_Automatic  Gear_type_Manual  \\\n",
       "0  2006  182510   68        4.4      5                    0                 1   \n",
       "1  2017   67478  125        4.9      5                    0                 1   \n",
       "2  2007   31510   98        6.6      5                    0                 1   \n",
       "3  2017   34985   92        0.0      5                    1                 0   \n",
       "4  2006   83700  174        6.2      5                    0                 1   \n",
       "\n",
       "   Fuel_type_CNG  Fuel_type_Diesel  Fuel_type_Electric  ...  Type_small  \\\n",
       "0              0                 1                   0  ...           1   \n",
       "1              0                 0                   0  ...           1   \n",
       "2              0                 0                   0  ...           1   \n",
       "3              0                 0                   1  ...           1   \n",
       "4              0                 0                   0  ...           1   \n",
       "\n",
       "   Type_suv  Type_van  Seller_Dealer  Seller_Private  Brand_encoded  \\\n",
       "0         0         0              1               0   10412.196983   \n",
       "1         0         0              1               0   25546.556757   \n",
       "2         0         0              1               0   11099.399408   \n",
       "3         0         0              1               0   11099.399408   \n",
       "4         0         0              1               0   17251.958184   \n",
       "\n",
       "   Model_encoded  Colour_encoded  Province_encoded  Price_EUR  \n",
       "0    8547.619048    15207.210252      22252.941248       2400  \n",
       "1   16731.591241    15207.210252      22252.941248      14990  \n",
       "2    9136.680000    15207.210252      22252.941248       4950  \n",
       "3   10966.931096    15207.210252      22252.941248      10830  \n",
       "4   19240.750000    15207.210252      22252.941248       9800  \n",
       "\n",
       "[5 rows x 29 columns]"
      ]
     },
     "execution_count": 2,
     "metadata": {},
     "output_type": "execute_result"
    }
   ],
   "source": [
    "df = pd.read_csv('/users/alfon/Desktop/Master/TFM/CSV/04.cars_features_def.csv')\n",
    "df.head()\n"
   ]
  },
  {
   "cell_type": "code",
   "execution_count": 3,
   "id": "6f27e9da",
   "metadata": {},
   "outputs": [],
   "source": [
    "X = df[df.columns[:-1]].to_numpy()\n",
    "y = df[df.columns[-1]].to_numpy()"
   ]
  },
  {
   "cell_type": "code",
   "execution_count": 4,
   "id": "19f70dd7",
   "metadata": {},
   "outputs": [],
   "source": [
    "lr = LinearRegression()\n",
    "rf = RandomForestRegressor()\n",
    "dt = DecisionTreeRegressor()\n",
    "\n",
    "X_train, X_test, y_train, y_test = train_test_split(X, y, random_state=7)"
   ]
  },
  {
   "cell_type": "code",
   "execution_count": 5,
   "id": "25d719aa",
   "metadata": {},
   "outputs": [
    {
     "name": "stdout",
     "output_type": "stream",
     "text": [
      "\n",
      "LinearRegression()\n",
      "--------\n",
      "7372.332885245852\n",
      "0.5543654120906143\n",
      "905211550.7072233\n",
      "0.6486730173384534\n",
      "\n",
      "DecisionTreeRegressor()\n",
      "--------\n",
      "4414.190997055111\n",
      "0.1969539768328649\n",
      "966907901.5574254\n",
      "0.6246180370932569\n",
      "\n",
      "RandomForestRegressor()\n",
      "--------\n",
      "3325.285143842111\n",
      "0.143812194572457\n",
      "689361010.5976405\n",
      "0.7324147561349008\n"
     ]
    }
   ],
   "source": [
    "for model in [lr, dt, rf]:\n",
    "    \n",
    "    model.fit(X_train, y_train)\n",
    "    predictions = model.predict(X_test)\n",
    "    \n",
    "    print('\\n' + str(model) + '\\n--------')\n",
    "    for metric in [mean_absolute_error, \n",
    "                   mean_absolute_percentage_error, \n",
    "                   mean_squared_error, \n",
    "                   explained_variance_score]:\n",
    "        \n",
    "        print(metric(y_test, predictions))"
   ]
  },
  {
   "cell_type": "code",
   "execution_count": 6,
   "id": "a3d0bee7",
   "metadata": {},
   "outputs": [
    {
     "data": {
      "text/plain": [
       "<matplotlib.collections.PathCollection at 0x153701a00>"
      ]
     },
     "execution_count": 6,
     "metadata": {},
     "output_type": "execute_result"
    },
    {
     "data": {
      "image/png": "[encoded data removed]",
      "text/plain": [
       "<Figure size 432x288 with 1 Axes>"
      ]
     },
     "metadata": {
      "needs_background": "light"
     },
     "output_type": "display_data"
    }
   ],
   "source": [
    "plt.scatter(y_test,lr.predict(X_test))"
   ]
  },
  {
   "cell_type": "code",
   "execution_count": 7,
   "id": "7228901f",
   "metadata": {},
   "outputs": [
    {
     "data": {
      "text/plain": [
       "<matplotlib.collections.PathCollection at 0x1538dc1f0>"
      ]
     },
     "execution_count": 7,
     "metadata": {},
     "output_type": "execute_result"
    },
    {
     "data": {
      "image/png": "[encoded data removed]",
      "text/plain": [
       "<Figure size 432x288 with 1 Axes>"
      ]
     },
     "metadata": {
      "needs_background": "light"
     },
     "output_type": "display_data"
    }
   ],
   "source": [
    "plt.scatter(y_test,dt.predict(X_test))"
   ]
  },
  {
   "cell_type": "code",
   "execution_count": 8,
   "id": "a8ba0946",
   "metadata": {},
   "outputs": [
    {
     "data": {
      "text/plain": [
       "<matplotlib.collections.PathCollection at 0x1539b6220>"
      ]
     },
     "execution_count": 8,
     "metadata": {},
     "output_type": "execute_result"
    },
    {
     "data": {
      "image/png": "[encoded data removed]",
      "text/plain": [
       "<Figure size 432x288 with 1 Axes>"
      ]
     },
     "metadata": {
      "needs_background": "light"
     },
     "output_type": "display_data"
    }
   ],
   "source": [
    "plt.scatter(y_test,rf.predict(X_test))"
   ]
  },
  {
   "cell_type": "code",
   "execution_count": null,
   "id": "4295cbfd",
   "metadata": {},
   "outputs": [],
   "source": []
  },
  {
   "cell_type": "markdown",
   "id": "b25eb558",
   "metadata": {},
   "source": [
    "## K Fold Cross Validation"
   ]
  },
  {
   "cell_type": "code",
   "execution_count": 9,
   "id": "ffdaf252",
   "metadata": {},
   "outputs": [],
   "source": [
    "from sklearn.model_selection import cross_val_score\n"
   ]
  },
  {
   "cell_type": "code",
   "execution_count": 10,
   "id": "fb8c54e4",
   "metadata": {},
   "outputs": [
    {
     "name": "stdout",
     "output_type": "stream",
     "text": [
      "\n",
      "LinearRegression()\n",
      " Cross Val Score 0.7613030038830673\n",
      " Std 0.062384271605662484\n",
      " Results [0.78820426 0.75048999 0.80544721 0.81737176 0.64500179]\n",
      "\n",
      "DecisionTreeRegressor()\n",
      " Cross Val Score 0.8004498315276749\n",
      " Std 0.02947728015537237\n",
      " Results [0.83538485 0.75036577 0.8052586  0.8220379  0.78920203]\n",
      "\n",
      "RandomForestRegressor()\n",
      " Cross Val Score 0.8624569297198498\n",
      " Std 0.036967525497765344\n",
      " Results [0.88994807 0.81909784 0.87923236 0.90624903 0.81775734]\n"
     ]
    }
   ],
   "source": [
    "for model in [lr, dt, rf]:\n",
    "    \n",
    "    results = cross_val_score(model, X_train, y_train, cv=5)\n",
    "    \n",
    "    print(\"\\n\" + str(model) + f\"\\n Cross Val Score {np.mean(results)}\" + f\"\\n Std {np.std(results)}\" + f\"\\n Results {results}\")"
   ]
  },
  {
   "cell_type": "markdown",
   "id": "b08d2fba",
   "metadata": {},
   "source": [
    "Pros\n",
    "\n",
    "* Estimation of variance of our model\n",
    "* Better use of data\n",
    "\n",
    "Cons\n",
    "\n",
    "* Computational cost"
   ]
  },
  {
   "cell_type": "code",
   "execution_count": 11,
   "id": "562b523c",
   "metadata": {},
   "outputs": [
    {
     "data": {
      "text/html": [
       "<div>\n",
       "<style scoped>\n",
       "    .dataframe tbody tr th:only-of-type {\n",
       "        vertical-align: middle;\n",
       "    }\n",
       "\n",
       "    .dataframe tbody tr th {\n",
       "        vertical-align: top;\n",
       "    }\n",
       "\n",
       "    .dataframe thead th {\n",
       "        text-align: right;\n",
       "    }\n",
       "</style>\n",
       "<table border=\"1\" class=\"dataframe\">\n",
       "  <thead>\n",
       "    <tr style=\"text-align: right;\">\n",
       "      <th></th>\n",
       "      <th>model</th>\n",
       "      <th>minimum_r2</th>\n",
       "      <th>mean_r2</th>\n",
       "      <th>maximum_r2</th>\n",
       "      <th>std_r2</th>\n",
       "    </tr>\n",
       "  </thead>\n",
       "  <tbody>\n",
       "    <tr>\n",
       "      <th>0</th>\n",
       "      <td>lr</td>\n",
       "      <td>0.616805</td>\n",
       "      <td>0.741592</td>\n",
       "      <td>0.812947</td>\n",
       "      <td>0.076050</td>\n",
       "    </tr>\n",
       "    <tr>\n",
       "      <th>1</th>\n",
       "      <td>dt</td>\n",
       "      <td>0.323472</td>\n",
       "      <td>0.661356</td>\n",
       "      <td>0.838730</td>\n",
       "      <td>0.179224</td>\n",
       "    </tr>\n",
       "    <tr>\n",
       "      <th>2</th>\n",
       "      <td>rf</td>\n",
       "      <td>0.701179</td>\n",
       "      <td>0.839085</td>\n",
       "      <td>0.943224</td>\n",
       "      <td>0.090137</td>\n",
       "    </tr>\n",
       "  </tbody>\n",
       "</table>\n",
       "</div>"
      ],
      "text/plain": [
       "  model  minimum_r2   mean_r2  maximum_r2    std_r2\n",
       "0    lr    0.616805  0.741592    0.812947  0.076050\n",
       "1    dt    0.323472  0.661356    0.838730  0.179224\n",
       "2    rf    0.701179  0.839085    0.943224  0.090137"
      ]
     },
     "execution_count": 11,
     "metadata": {},
     "output_type": "execute_result"
    }
   ],
   "source": [
    "# Models for this study\n",
    "models = []\n",
    "models.append(('lr', LinearRegression()))\n",
    "models.append(('dt', DecisionTreeRegressor()))\n",
    "models.append(('rf', RandomForestRegressor()))\n",
    "\n",
    "\n",
    "\n",
    "# Defining columns\n",
    "names = []\n",
    "results = []\n",
    "minimums = []\n",
    "means = []\n",
    "stds = []\n",
    "maximums = []\n",
    "\n",
    "scoring = 'r2'\n",
    "\n",
    "# Defining the algorithm function\n",
    "def cross_val_algorithm(name, model):\n",
    "    '''\n",
    "    Function that runs the cross-validation (CV) for the named algorithm\n",
    "    - name: Designation of the algorithm. \n",
    "    - model: Algorithm to be applied.\n",
    "    '''\n",
    "    kfold = model_selection.KFold(n_splits=5, shuffle=True)\n",
    "    cv_results = model_selection.cross_val_score(estimator=model,\n",
    "                                                 X=X,\n",
    "                                                 y=y,\n",
    "                                                 cv=kfold,\n",
    "                                                 scoring=scoring)\n",
    "    \n",
    "    # Appending each iteration to the lists created above\n",
    "    names.append(name)\n",
    "    results.append(cv_results)\n",
    "    minimums.append(cv_results.min())\n",
    "    means.append(cv_results.mean())\n",
    "    stds.append(cv_results.std())\n",
    "    maximums.append(cv_results.max())\n",
    "\n",
    "# Running the algorithm for each model in the list designated\n",
    "for name, model in models:\n",
    "\n",
    "    cross_val_algorithm(name, model)\n",
    "\n",
    "# Creating a DataFrame :\n",
    "models_df = pd.DataFrame({'model': names,\n",
    "                          'minimum_r2': minimums,\n",
    "                          'mean_r2': means,\n",
    "                          'maximum_r2': maximums,\n",
    "                          'std_r2': stds})\n",
    "\n",
    "\n",
    "models_df \n",
    "\n"
   ]
  },
  {
   "cell_type": "code",
   "execution_count": 12,
   "id": "f6c15427",
   "metadata": {},
   "outputs": [],
   "source": [
    "import seaborn as sns"
   ]
  },
  {
   "cell_type": "code",
   "execution_count": 13,
   "id": "11ed9deb",
   "metadata": {},
   "outputs": [
    {
     "data": {
      "image/png": "[encoded data removed]",
      "text/plain": [
       "<Figure size 720x432 with 1 Axes>"
      ]
     },
     "metadata": {
      "needs_background": "light"
     },
     "output_type": "display_data"
    }
   ],
   "source": [
    "plt.figure(figsize=(10, 6))\n",
    "\n",
    "sns.lineplot(data=results, dashes=True)\n",
    "\n",
    "plt.title('Regression models K-fold cross validation performance')\n",
    "plt.xticks(list(range(0, 5)), list(range(1, 6)))\n",
    "plt.xlabel('K-Fold iteration')\n",
    "plt.yticks(np.arange(0, 1, .05))\n",
    "plt.ylabel('r2 score')\n",
    "\n",
    "plt.legend(names)\n",
    "\n",
    "\n",
    "plt.show()"
   ]
  },
  {
   "cell_type": "code",
   "execution_count": 14,
   "id": "8cb7a6bd",
   "metadata": {},
   "outputs": [
    {
     "name": "stderr",
     "output_type": "stream",
     "text": [
      "/var/folders/8d/r5dgt6bd65964tjj89vgvwh40000gn/T/ipykernel_52504/3574728069.py:9: UserWarning: Matplotlib is currently using module://matplotlib_inline.backend_inline, which is a non-GUI backend, so cannot show the figure.\n",
      "  fig.show()\n"
     ]
    },
    {
     "data": {
      "image/png": "[encoded data removed]",
      "text/plain": [
       "<Figure size 720x432 with 1 Axes>"
      ]
     },
     "metadata": {
      "needs_background": "light"
     },
     "output_type": "display_data"
    }
   ],
   "source": [
    "fig , ax1 = plt.subplots(figsize=(10,6))\n",
    "ax1.set_title(\"Regression models K-fold cross validation performance\")\n",
    "ax1.set_xlabel('models') \n",
    "ax1.set_ylabel('r2 score') \n",
    "labels = names\n",
    "ax1.boxplot(results) \n",
    "ax1.set_xticklabels(labels)\n",
    "\n",
    "fig.show()"
   ]
  },
  {
   "cell_type": "code",
   "execution_count": 15,
   "id": "f32e1ca2",
   "metadata": {},
   "outputs": [],
   "source": [
    "models_df.set_index('model', inplace = True)"
   ]
  },
  {
   "cell_type": "code",
   "execution_count": 16,
   "id": "9258adc7",
   "metadata": {},
   "outputs": [
    {
     "data": {
      "text/plain": [
       "(array([0, 1, 2]), [Text(0, 0, 'lr'), Text(1, 0, 'dt'), Text(2, 0, 'rf')])"
      ]
     },
     "execution_count": 16,
     "metadata": {},
     "output_type": "execute_result"
    },
    {
     "data": {
      "image/png": "[encoded data removed]",
      "text/plain": [
       "<Figure size 432x288 with 1 Axes>"
      ]
     },
     "metadata": {
      "needs_background": "light"
     },
     "output_type": "display_data"
    }
   ],
   "source": [
    "models_df[\"mean_r2\"].plot(kind = \"bar\")\n",
    "plt.xticks(rotation=0)\n",
    "\n"
   ]
  },
  {
   "cell_type": "markdown",
   "id": "b4118d0a",
   "metadata": {},
   "source": [
    "## Based on above results we can say that Random Forest Regressor gives the best score."
   ]
  },
  {
   "cell_type": "code",
   "execution_count": null,
   "id": "013c953c",
   "metadata": {},
   "outputs": [],
   "source": []
  },
  {
   "cell_type": "markdown",
   "id": "834d70fb",
   "metadata": {},
   "source": [
    "## RandomizedSearchCV"
   ]
  },
  {
   "cell_type": "code",
   "execution_count": 35,
   "id": "dfccbb79",
   "metadata": {},
   "outputs": [],
   "source": [
    "df = pd.read_csv('/users/alfon/Desktop/Master/TFM/CSV/04.cars_features_def.csv')\n"
   ]
  },
  {
   "cell_type": "code",
   "execution_count": 36,
   "id": "5b45d61d",
   "metadata": {},
   "outputs": [],
   "source": [
    "X = df[df.columns[:-1]]\n",
    "y = df[df.columns[-1]]"
   ]
  },
  {
   "cell_type": "code",
   "execution_count": 37,
   "id": "57f636dc",
   "metadata": {},
   "outputs": [],
   "source": [
    "X_train, X_test, y_train, y_test = model_selection.train_test_split(X, y, test_size = .2)"
   ]
  },
  {
   "cell_type": "code",
   "execution_count": 38,
   "id": "650e9c29",
   "metadata": {},
   "outputs": [
    {
     "data": {
      "text/plain": [
       "0.8829693937288594"
      ]
     },
     "execution_count": 38,
     "metadata": {},
     "output_type": "execute_result"
    }
   ],
   "source": [
    "rf = RandomForestRegressor()\n",
    "rf.fit(X_train, y_train)\n",
    "rf.score(X_test, y_test)"
   ]
  },
  {
   "cell_type": "code",
   "execution_count": 39,
   "id": "bbf51cc9",
   "metadata": {},
   "outputs": [],
   "source": [
    "cv = 5"
   ]
  },
  {
   "cell_type": "code",
   "execution_count": 40,
   "id": "966ac173",
   "metadata": {},
   "outputs": [],
   "source": [
    "def perfect_model(X, y):\n",
    "    \n",
    "    model_algo = {\n",
    "      \n",
    "\n",
    "        'Random_forest':{\n",
    "            'model': RandomForestRegressor(),\n",
    "            'params': {\n",
    "                'n_estimators': [x for x in range(20,150,20)],\n",
    "                'max_features': ['auto', 'sqrt'],\n",
    "                'max_depth': [x for x in range(5,35,5)],\n",
    "                'min_samples_split': [2, 5, 10, 15, 100],\n",
    "                'min_samples_leaf': [1, 2, 5, 10]}}}\n",
    "  \n",
    "    score = []\n",
    "    cv = 5\n",
    "    for algo_name, config in model_algo.items():\n",
    "        rs =  RandomizedSearchCV(config['model'], config['params'], cv=cv, return_train_score=False, n_iter=5)\n",
    "        rs.fit(X_train,y_train)\n",
    "        score.append({\n",
    "              'model': algo_name,\n",
    "              'best_score': rs.best_score_,\n",
    "              'best_params': rs.best_params_})\n",
    "\n",
    "    result = pd.DataFrame(score,columns=['model','best_score','best_params'])\n",
    "    print(result.best_params.tolist())\n",
    "    return result"
   ]
  },
  {
   "cell_type": "code",
   "execution_count": 41,
   "id": "439aaeeb",
   "metadata": {},
   "outputs": [
    {
     "name": "stdout",
     "output_type": "stream",
     "text": [
      "[{'n_estimators': 120, 'min_samples_split': 15, 'min_samples_leaf': 1, 'max_features': 'auto', 'max_depth': 25}]\n"
     ]
    },
    {
     "data": {
      "text/html": [
       "<div>\n",
       "<style scoped>\n",
       "    .dataframe tbody tr th:only-of-type {\n",
       "        vertical-align: middle;\n",
       "    }\n",
       "\n",
       "    .dataframe tbody tr th {\n",
       "        vertical-align: top;\n",
       "    }\n",
       "\n",
       "    .dataframe thead th {\n",
       "        text-align: right;\n",
       "    }\n",
       "</style>\n",
       "<table border=\"1\" class=\"dataframe\">\n",
       "  <thead>\n",
       "    <tr style=\"text-align: right;\">\n",
       "      <th></th>\n",
       "      <th>model</th>\n",
       "      <th>best_score</th>\n",
       "      <th>best_params</th>\n",
       "    </tr>\n",
       "  </thead>\n",
       "  <tbody>\n",
       "    <tr>\n",
       "      <th>0</th>\n",
       "      <td>Random_forest</td>\n",
       "      <td>0.814585</td>\n",
       "      <td>{'n_estimators': 120, 'min_samples_split': 15,...</td>\n",
       "    </tr>\n",
       "  </tbody>\n",
       "</table>\n",
       "</div>"
      ],
      "text/plain": [
       "           model  best_score  \\\n",
       "0  Random_forest    0.814585   \n",
       "\n",
       "                                         best_params  \n",
       "0  {'n_estimators': 120, 'min_samples_split': 15,...  "
      ]
     },
     "execution_count": 41,
     "metadata": {},
     "output_type": "execute_result"
    }
   ],
   "source": [
    "perfect_model(X, y)"
   ]
  },
  {
   "cell_type": "code",
   "execution_count": 43,
   "id": "23c0a253",
   "metadata": {},
   "outputs": [
    {
     "data": {
      "text/plain": [
       "0.889677733952567"
      ]
     },
     "execution_count": 43,
     "metadata": {},
     "output_type": "execute_result"
    }
   ],
   "source": [
    "rf = RandomForestRegressor(n_estimators=120, min_samples_split=15, min_samples_leaf=1, max_features='auto', max_depth=25)\n",
    "rf.fit(X_train,y_train)\n",
    "rf.score(X_test,y_test)"
   ]
  },
  {
   "cell_type": "code",
   "execution_count": 44,
   "id": "e16d1738",
   "metadata": {},
   "outputs": [
    {
     "data": {
      "text/plain": [
       "array([0.84431608, 0.63977682, 0.95118569, 0.80100804, 0.72546129])"
      ]
     },
     "execution_count": 44,
     "metadata": {},
     "output_type": "execute_result"
    }
   ],
   "source": [
    "cross_val_score(RandomForestRegressor(n_estimators=120, min_samples_split=15, min_samples_leaf=1, max_features='auto', max_depth=25), X,y,cv=cv)"
   ]
  },
  {
   "cell_type": "markdown",
   "id": "3a863509",
   "metadata": {},
   "source": [
    "## Exporting the tested model to a pickle file"
   ]
  },
  {
   "cell_type": "code",
   "execution_count": 45,
   "id": "a990d205",
   "metadata": {},
   "outputs": [],
   "source": [
    "import pickle\n",
    "\n",
    "with open('RF_price_predicting_model.pkl', 'wb') as file:\n",
    "  # dump information to that file\n",
    "  pickle.dump(rf, file)"
   ]
  },
  {
   "cell_type": "code",
   "execution_count": 46,
   "id": "aec26e22",
   "metadata": {},
   "outputs": [],
   "source": [
    "import bz2\n",
    "import pickle\n",
    "import _pickle as cPickle"
   ]
  },
  {
   "cell_type": "code",
   "execution_count": 47,
   "id": "8b73e67b",
   "metadata": {},
   "outputs": [],
   "source": [
    "with bz2.BZ2File('RF_price_predicting_model.pkl' + '.pbz2', 'w') as file: \n",
    "        cPickle.dump(rf, file)"
   ]
  }
 ],
 "metadata": {
  "kernelspec": {
   "display_name": "Python 3 (ipykernel)",
   "language": "python",
   "name": "python3"
  },
  "language_info": {
   "codemirror_mode": {
    "name": "ipython",
    "version": 3
   },
   "file_extension": ".py",
   "mimetype": "text/x-python",
   "name": "python",
   "nbconvert_exporter": "python",
   "pygments_lexer": "ipython3",
   "version": "3.9.7"
  }
 },
 "nbformat": 4,
 "nbformat_minor": 5
}
