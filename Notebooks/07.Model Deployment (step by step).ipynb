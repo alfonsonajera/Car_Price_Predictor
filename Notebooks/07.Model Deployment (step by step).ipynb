{
 "cells": [
  {
   "cell_type": "code",
   "execution_count": 1,
   "id": "ce325cb9",
   "metadata": {},
   "outputs": [
    {
     "name": "stderr",
     "output_type": "stream",
     "text": [
      "/Users/alfon/opt/anaconda3/envs/geo_env/lib/python3.9/site-packages/statsmodels/compat/pandas.py:65: FutureWarning: pandas.Int64Index is deprecated and will be removed from pandas in a future version. Use pandas.Index with the appropriate dtype instead.\n",
      "  from pandas import Int64Index as NumericIndex\n"
     ]
    }
   ],
   "source": [
    "import streamlit as st\n",
    "import pickle\n",
    "import pandas as pd\n",
    "import numpy as np\n",
    "import matplotlib.pyplot as plt\n",
    "from category_encoders import TargetEncoder\n",
    "import bz2\n",
    "import _pickle as cPickle\n",
    "import shap"
   ]
  },
  {
   "cell_type": "code",
   "execution_count": 2,
   "id": "b9c23a06",
   "metadata": {},
   "outputs": [
    {
     "name": "stderr",
     "output_type": "stream",
     "text": [
      "Trying to unpickle estimator DecisionTreeRegressor from version 1.0.1 when using version 1.0.2. This might lead to breaking code or invalid results. Use at your own risk. For more info please refer to:\n",
      "https://scikit-learn.org/stable/modules/model_persistence.html#security-maintainability-limitations\n",
      "Trying to unpickle estimator RandomForestRegressor from version 1.0.1 when using version 1.0.2. This might lead to breaking code or invalid results. Use at your own risk. For more info please refer to:\n",
      "https://scikit-learn.org/stable/modules/model_persistence.html#security-maintainability-limitations\n"
     ]
    }
   ],
   "source": [
    "compressed_model = bz2.BZ2File(\"RF_price_predicting_model.pkl.pbz2\", 'rb')\n",
    "model = cPickle.load(compressed_model)\n"
   ]
  },
  {
   "cell_type": "code",
   "execution_count": 3,
   "id": "32bfed75",
   "metadata": {},
   "outputs": [],
   "source": [
    "st.set_page_config(page_title='Car Genius',page_icon=\"🚘\")"
   ]
  },
  {
   "cell_type": "code",
   "execution_count": 4,
   "id": "5620f575",
   "metadata": {},
   "outputs": [
    {
     "name": "stderr",
     "output_type": "stream",
     "text": [
      "2022-01-25 23:20:57.133 \n",
      "  \u001b[33m\u001b[1mWarning:\u001b[0m to view this Streamlit app on a browser, run it with the following\n",
      "  command:\n",
      "\n",
      "    streamlit run /Users/alfon/opt/anaconda3/envs/geo_env/lib/python3.9/site-packages/ipykernel_launcher.py [ARGUMENTS]\n"
     ]
    }
   ],
   "source": [
    "# Title logo\n",
    "st.image(\"/users/alfon/Desktop/Master/TFM/Brands/CarGenius_header.png\")\n",
    "st.write(\"\"\" \n",
    "**Car Genius** will help you to predict Used Cars Values for the Spanish Market using a Machine Learning Algorithm updated up to 2021 to arrive at a fair value in just a few clicks!\n",
    "\"\"\")         \n",
    "st.write('---')\n"
   ]
  },
  {
   "cell_type": "code",
   "execution_count": 5,
   "id": "49fcd201",
   "metadata": {},
   "outputs": [
    {
     "data": {
      "text/plain": [
       "DeltaGenerator(_root_container=1, _provided_cursor=None, _parent=DeltaGenerator(_root_container=0, _provided_cursor=None, _parent=None, _block_type=None, _form_data=None), _block_type=None, _form_data=None)"
      ]
     },
     "execution_count": 5,
     "metadata": {},
     "output_type": "execute_result"
    }
   ],
   "source": [
    "# Sidebar\n",
    "# Header of Specify Input Parameters\n",
    "\n",
    "\n",
    "st.sidebar.header('Specify Input Parameters')"
   ]
  },
  {
   "cell_type": "code",
   "execution_count": 6,
   "id": "35009260",
   "metadata": {},
   "outputs": [
    {
     "data": {
      "text/plain": [
       "DeltaGenerator(_root_container=0, _provided_cursor=None, _parent=None, _block_type=None, _form_data=None)"
      ]
     },
     "execution_count": 6,
     "metadata": {},
     "output_type": "execute_result"
    }
   ],
   "source": [
    "# Main Panel\n",
    "\n",
    "# Print specified input parameters\n",
    "st.header('Specified Input parameters')\n"
   ]
  },
  {
   "cell_type": "code",
   "execution_count": 7,
   "id": "190b2616",
   "metadata": {},
   "outputs": [],
   "source": [
    "# Loads the Used Cars Dataset\n",
    "cars_final = pd.read_csv('/users/alfon/Desktop/Master/TFM/CSV/03.cars_final_def.csv')\n",
    "cars_final = cars_final.drop(['Version', 'ZIP'], axis=1)\n",
    "cars_final['Province'] = cars_final['Province'].fillna(\"Other\")\n",
    "X= cars_final[cars_final.columns[:-1]]\n",
    "y= cars_final[cars_final.columns[-1]]"
   ]
  },
  {
   "cell_type": "code",
   "execution_count": 8,
   "id": "96bee842",
   "metadata": {},
   "outputs": [],
   "source": [
    "def user_input_features():\n",
    "    BRAND = st.sidebar.selectbox('Brand', np.sort(cars_final.Brand.unique()), index = 8)\n",
    "    \n",
    "    MODEL = st.sidebar.selectbox('Model', np.sort(cars_final[cars_final.Brand == BRAND].Model.unique()), index=0)\n",
    "        \n",
    "    YEAR = st.sidebar.slider('Year', int(X.Year.min()), int(X.Year.max()), 2021)\n",
    "    \n",
    "    KMS = st.sidebar.number_input('Kms', 0, 1000000, 0, step = 1)\n",
    "    \n",
    "    HP = st.sidebar.slider('Power(Hp)', 0, 1000, 0)\n",
    "    \n",
    "    TRANSMISSION = st.sidebar.selectbox('Transmission', X.Gear_type.unique())\n",
    "    \n",
    "    FUEL = st.sidebar.selectbox('Fuel type', cars_final.Fuel_type.unique(), index=0)\n",
    "    \n",
    "    \n",
    "    CONS = st.sidebar.slider('Fuel cons', int(X.Fuel_cons.min()), int(X.Fuel_cons.max()), int(X.Fuel_cons.mean()))\n",
    "    DOORS = st.sidebar.slider('Doors', int(X.Doors.min()), int(X.Doors.max()), 5)\n",
    "    COLOUR = st.sidebar.selectbox('Colour', np.sort(cars_final.Colour.unique()), index=12)\n",
    "    TYPE = st.sidebar.selectbox('Type', cars_final.Type.unique(), index=0)\n",
    "    \n",
    "    \n",
    "    \n",
    "    PROVINCE = st.sidebar.selectbox('Province', np.sort(cars_final.Province.unique()), index=29)\n",
    "    SELLER = st.sidebar.radio(\"Seller\", (\"Dealer\", \"Private\"))\n",
    "    \n",
    "    \n",
    "    \n",
    "    data = {'Brand': BRAND,\n",
    "            'Model': MODEL,\n",
    "            'Type': TYPE,\n",
    "            'Year': YEAR,\n",
    "            'Kms': KMS,\n",
    "            'Hp': HP,\n",
    "            'Gear_type': TRANSMISSION,\n",
    "            'Fuel_type': FUEL,\n",
    "            'Fuel_cons': CONS,\n",
    "            'Doors': DOORS,\n",
    "            'Colour': COLOUR,\n",
    "            'Province': PROVINCE,\n",
    "            'Seller': SELLER}\n",
    "    \n",
    "    features = pd.DataFrame(data, index=[0])\n",
    "    return features\n",
    "\n",
    "df_frontend = user_input_features()\n",
    "\n",
    "    \n"
   ]
  },
  {
   "cell_type": "code",
   "execution_count": 9,
   "id": "1745353d",
   "metadata": {},
   "outputs": [],
   "source": [
    "# Main Panel\n",
    "\n",
    "# Print specified input parameters\n",
    "st.header('Specified Input parameters')\n",
    "st.write(df_frontend)\n",
    "st.write('---')"
   ]
  },
  {
   "cell_type": "code",
   "execution_count": 10,
   "id": "e8fad63d",
   "metadata": {},
   "outputs": [],
   "source": [
    "# Build Regression Model\n"
   ]
  },
  {
   "cell_type": "code",
   "execution_count": 11,
   "id": "65976bce",
   "metadata": {},
   "outputs": [
    {
     "data": {
      "text/html": [
       "<div>\n",
       "<style scoped>\n",
       "    .dataframe tbody tr th:only-of-type {\n",
       "        vertical-align: middle;\n",
       "    }\n",
       "\n",
       "    .dataframe tbody tr th {\n",
       "        vertical-align: top;\n",
       "    }\n",
       "\n",
       "    .dataframe thead th {\n",
       "        text-align: right;\n",
       "    }\n",
       "</style>\n",
       "<table border=\"1\" class=\"dataframe\">\n",
       "  <thead>\n",
       "    <tr style=\"text-align: right;\">\n",
       "      <th></th>\n",
       "      <th>Brand</th>\n",
       "      <th>Model</th>\n",
       "      <th>Type</th>\n",
       "      <th>Year</th>\n",
       "      <th>Kms</th>\n",
       "      <th>Hp</th>\n",
       "      <th>Gear_type</th>\n",
       "      <th>Fuel_type</th>\n",
       "      <th>Fuel_cons</th>\n",
       "      <th>Doors</th>\n",
       "      <th>Colour</th>\n",
       "      <th>Province</th>\n",
       "      <th>Seller</th>\n",
       "    </tr>\n",
       "  </thead>\n",
       "  <tbody>\n",
       "    <tr>\n",
       "      <th>0</th>\n",
       "      <td>BMW</td>\n",
       "      <td>1 Series</td>\n",
       "      <td>small</td>\n",
       "      <td>2021</td>\n",
       "      <td>0</td>\n",
       "      <td>0</td>\n",
       "      <td>Manual</td>\n",
       "      <td>Diesel</td>\n",
       "      <td>6</td>\n",
       "      <td>5</td>\n",
       "      <td>White</td>\n",
       "      <td>Madrid</td>\n",
       "      <td>Dealer</td>\n",
       "    </tr>\n",
       "  </tbody>\n",
       "</table>\n",
       "</div>"
      ],
      "text/plain": [
       "  Brand     Model   Type  Year  Kms  Hp Gear_type Fuel_type  Fuel_cons  Doors  \\\n",
       "0   BMW  1 Series  small  2021    0   0    Manual    Diesel          6      5   \n",
       "\n",
       "  Colour Province  Seller  \n",
       "0  White   Madrid  Dealer  "
      ]
     },
     "execution_count": 11,
     "metadata": {},
     "output_type": "execute_result"
    }
   ],
   "source": [
    "df_frontend.head()"
   ]
  },
  {
   "cell_type": "code",
   "execution_count": 12,
   "id": "4de5ea5b",
   "metadata": {},
   "outputs": [
    {
     "data": {
      "text/html": [
       "<div>\n",
       "<style scoped>\n",
       "    .dataframe tbody tr th:only-of-type {\n",
       "        vertical-align: middle;\n",
       "    }\n",
       "\n",
       "    .dataframe tbody tr th {\n",
       "        vertical-align: top;\n",
       "    }\n",
       "\n",
       "    .dataframe thead th {\n",
       "        text-align: right;\n",
       "    }\n",
       "</style>\n",
       "<table border=\"1\" class=\"dataframe\">\n",
       "  <thead>\n",
       "    <tr style=\"text-align: right;\">\n",
       "      <th></th>\n",
       "      <th>Brand</th>\n",
       "      <th>Model</th>\n",
       "      <th>Type</th>\n",
       "      <th>Year</th>\n",
       "      <th>Kms</th>\n",
       "      <th>Hp</th>\n",
       "      <th>Gear_type</th>\n",
       "      <th>Fuel_type</th>\n",
       "      <th>Fuel_cons</th>\n",
       "      <th>Doors</th>\n",
       "      <th>Colour</th>\n",
       "      <th>Province</th>\n",
       "      <th>Seller</th>\n",
       "      <th>Price_EUR</th>\n",
       "    </tr>\n",
       "  </thead>\n",
       "  <tbody>\n",
       "    <tr>\n",
       "      <th>23555</th>\n",
       "      <td>SEAT</td>\n",
       "      <td>Toledo</td>\n",
       "      <td>sedan</td>\n",
       "      <td>2000</td>\n",
       "      <td>220000</td>\n",
       "      <td>110</td>\n",
       "      <td>Manual</td>\n",
       "      <td>Diesel</td>\n",
       "      <td>5.0</td>\n",
       "      <td>5</td>\n",
       "      <td>Silver</td>\n",
       "      <td>Madrid</td>\n",
       "      <td>Private</td>\n",
       "      <td>1500</td>\n",
       "    </tr>\n",
       "  </tbody>\n",
       "</table>\n",
       "</div>"
      ],
      "text/plain": [
       "      Brand   Model   Type  Year     Kms   Hp Gear_type Fuel_type  Fuel_cons  \\\n",
       "23555  SEAT  Toledo  sedan  2000  220000  110    Manual    Diesel        5.0   \n",
       "\n",
       "       Doors  Colour Province   Seller  Price_EUR  \n",
       "23555      5  Silver   Madrid  Private       1500  "
      ]
     },
     "execution_count": 12,
     "metadata": {},
     "output_type": "execute_result"
    }
   ],
   "source": [
    "cars_final.sample(1)"
   ]
  },
  {
   "cell_type": "code",
   "execution_count": 13,
   "id": "acf304d9",
   "metadata": {},
   "outputs": [],
   "source": [
    "df = pd.concat([df_frontend, cars_final], axis=0).reset_index().drop('index', axis=1)"
   ]
  },
  {
   "cell_type": "code",
   "execution_count": 14,
   "id": "69421285",
   "metadata": {},
   "outputs": [],
   "source": [
    "for col in ['Brand','Gear_type', 'Fuel_type','Type','Seller']:\n",
    "    df[col] = df[col].astype('category')"
   ]
  },
  {
   "cell_type": "code",
   "execution_count": 15,
   "id": "14dfe61d",
   "metadata": {},
   "outputs": [],
   "source": [
    "df = pd.get_dummies(data=df,columns=['Gear_type','Fuel_type','Type','Seller'])"
   ]
  },
  {
   "cell_type": "code",
   "execution_count": 16,
   "id": "91999773",
   "metadata": {},
   "outputs": [],
   "source": [
    "encoder = TargetEncoder()"
   ]
  },
  {
   "cell_type": "code",
   "execution_count": 17,
   "id": "86d5aa32",
   "metadata": {},
   "outputs": [],
   "source": [
    "cols_to_encode = ['Brand','Model', 'Colour', 'Province']\n",
    "cols_encoded = list(map(lambda c: c + '_encoded', cols_to_encode))\n",
    "\n",
    "df[cols_encoded] = encoder.fit_transform(df[cols_to_encode], df.Price_EUR)"
   ]
  },
  {
   "cell_type": "code",
   "execution_count": 18,
   "id": "99c2e6df",
   "metadata": {},
   "outputs": [],
   "source": [
    "df.drop(['Brand','Model', 'Colour', 'Province', 'Price_EUR'], axis = 1, inplace = True)"
   ]
  },
  {
   "cell_type": "code",
   "execution_count": 19,
   "id": "c8d264d9",
   "metadata": {},
   "outputs": [],
   "source": [
    "df_pred = df[:1]"
   ]
  },
  {
   "cell_type": "code",
   "execution_count": 20,
   "id": "8cb6f1ae",
   "metadata": {},
   "outputs": [
    {
     "data": {
      "text/html": [
       "<div>\n",
       "<style scoped>\n",
       "    .dataframe tbody tr th:only-of-type {\n",
       "        vertical-align: middle;\n",
       "    }\n",
       "\n",
       "    .dataframe tbody tr th {\n",
       "        vertical-align: top;\n",
       "    }\n",
       "\n",
       "    .dataframe thead th {\n",
       "        text-align: right;\n",
       "    }\n",
       "</style>\n",
       "<table border=\"1\" class=\"dataframe\">\n",
       "  <thead>\n",
       "    <tr style=\"text-align: right;\">\n",
       "      <th></th>\n",
       "      <th>Year</th>\n",
       "      <th>Kms</th>\n",
       "      <th>Hp</th>\n",
       "      <th>Fuel_cons</th>\n",
       "      <th>Doors</th>\n",
       "      <th>Gear_type_Automatic</th>\n",
       "      <th>Gear_type_Manual</th>\n",
       "      <th>Fuel_type_CNG</th>\n",
       "      <th>Fuel_type_Diesel</th>\n",
       "      <th>Fuel_type_Electric</th>\n",
       "      <th>...</th>\n",
       "      <th>Type_sedan</th>\n",
       "      <th>Type_small</th>\n",
       "      <th>Type_suv</th>\n",
       "      <th>Type_van</th>\n",
       "      <th>Seller_Dealer</th>\n",
       "      <th>Seller_Private</th>\n",
       "      <th>Brand_encoded</th>\n",
       "      <th>Model_encoded</th>\n",
       "      <th>Colour_encoded</th>\n",
       "      <th>Province_encoded</th>\n",
       "    </tr>\n",
       "  </thead>\n",
       "  <tbody>\n",
       "    <tr>\n",
       "      <th>0</th>\n",
       "      <td>2021</td>\n",
       "      <td>0</td>\n",
       "      <td>0</td>\n",
       "      <td>6.0</td>\n",
       "      <td>5</td>\n",
       "      <td>0</td>\n",
       "      <td>1</td>\n",
       "      <td>0</td>\n",
       "      <td>1</td>\n",
       "      <td>0</td>\n",
       "      <td>...</td>\n",
       "      <td>0</td>\n",
       "      <td>1</td>\n",
       "      <td>0</td>\n",
       "      <td>0</td>\n",
       "      <td>1</td>\n",
       "      <td>0</td>\n",
       "      <td>26230.80923</td>\n",
       "      <td>15653.143885</td>\n",
       "      <td>22535.097496</td>\n",
       "      <td>35799.784484</td>\n",
       "    </tr>\n",
       "  </tbody>\n",
       "</table>\n",
       "<p>1 rows × 28 columns</p>\n",
       "</div>"
      ],
      "text/plain": [
       "   Year  Kms  Hp  Fuel_cons  Doors  Gear_type_Automatic  Gear_type_Manual  \\\n",
       "0  2021    0   0        6.0      5                    0                 1   \n",
       "\n",
       "   Fuel_type_CNG  Fuel_type_Diesel  Fuel_type_Electric  ...  Type_sedan  \\\n",
       "0              0                 1                   0  ...           0   \n",
       "\n",
       "   Type_small  Type_suv  Type_van  Seller_Dealer  Seller_Private  \\\n",
       "0           1         0         0              1               0   \n",
       "\n",
       "   Brand_encoded  Model_encoded  Colour_encoded  Province_encoded  \n",
       "0    26230.80923   15653.143885    22535.097496      35799.784484  \n",
       "\n",
       "[1 rows x 28 columns]"
      ]
     },
     "execution_count": 20,
     "metadata": {},
     "output_type": "execute_result"
    }
   ],
   "source": [
    "df_pred"
   ]
  },
  {
   "cell_type": "code",
   "execution_count": 21,
   "id": "b97e7e88",
   "metadata": {},
   "outputs": [
    {
     "data": {
      "text/html": [
       "<div>\n",
       "<style scoped>\n",
       "    .dataframe tbody tr th:only-of-type {\n",
       "        vertical-align: middle;\n",
       "    }\n",
       "\n",
       "    .dataframe tbody tr th {\n",
       "        vertical-align: top;\n",
       "    }\n",
       "\n",
       "    .dataframe thead th {\n",
       "        text-align: right;\n",
       "    }\n",
       "</style>\n",
       "<table border=\"1\" class=\"dataframe\">\n",
       "  <thead>\n",
       "    <tr style=\"text-align: right;\">\n",
       "      <th></th>\n",
       "      <th>Price_EUR</th>\n",
       "    </tr>\n",
       "  </thead>\n",
       "  <tbody>\n",
       "    <tr>\n",
       "      <th>0</th>\n",
       "      <td>21083.753727</td>\n",
       "    </tr>\n",
       "  </tbody>\n",
       "</table>\n",
       "</div>"
      ],
      "text/plain": [
       "      Price_EUR\n",
       "0  21083.753727"
      ]
     },
     "execution_count": 21,
     "metadata": {},
     "output_type": "execute_result"
    }
   ],
   "source": [
    "# Apply Model to Make Prediction\n",
    "\n",
    "prediction = pd.DataFrame(model.predict(df_pred))\n",
    "prediction.columns = ['Price_EUR']\n",
    "prediction"
   ]
  },
  {
   "cell_type": "code",
   "execution_count": 22,
   "id": "76adf9c6",
   "metadata": {},
   "outputs": [],
   "source": [
    "prediction['Price_EUR']= prediction['Price_EUR'].map('€{:,.0f}'.format)"
   ]
  },
  {
   "cell_type": "code",
   "execution_count": 23,
   "id": "18f1f267",
   "metadata": {},
   "outputs": [
    {
     "data": {
      "text/html": [
       "<div>\n",
       "<style scoped>\n",
       "    .dataframe tbody tr th:only-of-type {\n",
       "        vertical-align: middle;\n",
       "    }\n",
       "\n",
       "    .dataframe tbody tr th {\n",
       "        vertical-align: top;\n",
       "    }\n",
       "\n",
       "    .dataframe thead th {\n",
       "        text-align: right;\n",
       "    }\n",
       "</style>\n",
       "<table border=\"1\" class=\"dataframe\">\n",
       "  <thead>\n",
       "    <tr style=\"text-align: right;\">\n",
       "      <th></th>\n",
       "      <th>Price_EUR</th>\n",
       "    </tr>\n",
       "  </thead>\n",
       "  <tbody>\n",
       "    <tr>\n",
       "      <th>0</th>\n",
       "      <td>€21,084</td>\n",
       "    </tr>\n",
       "  </tbody>\n",
       "</table>\n",
       "</div>"
      ],
      "text/plain": [
       "  Price_EUR\n",
       "0   €21,084"
      ]
     },
     "execution_count": 23,
     "metadata": {},
     "output_type": "execute_result"
    }
   ],
   "source": [
    "prediction"
   ]
  },
  {
   "cell_type": "code",
   "execution_count": 24,
   "id": "f741cc27",
   "metadata": {},
   "outputs": [],
   "source": [
    "st.header('The predicted value for this cars is:')\n",
    "st.write(prediction)\n",
    "st.write('---')"
   ]
  },
  {
   "cell_type": "code",
   "execution_count": 25,
   "id": "f102b3a8",
   "metadata": {},
   "outputs": [],
   "source": [
    "explainer = shap.TreeExplainer(model)"
   ]
  },
  {
   "cell_type": "code",
   "execution_count": 26,
   "id": "2c7b548b",
   "metadata": {},
   "outputs": [],
   "source": [
    "shap_values = explainer.shap_values(df)"
   ]
  },
  {
   "cell_type": "code",
   "execution_count": 27,
   "id": "b632673f",
   "metadata": {},
   "outputs": [
    {
     "data": {
      "image/png": "[encoded data removed]",
      "text/plain": [
       "<Figure size 576x684 with 2 Axes>"
      ]
     },
     "metadata": {
      "needs_background": "light"
     },
     "output_type": "display_data"
    }
   ],
   "source": [
    "plt.title('Feature importance based on SHAP values')\n",
    "shap.summary_plot(shap_values, df,show= False)\n",
    "plt.rcParams['savefig.facecolor']='white'\n",
    "plt.savefig('/users/alfon/Desktop/Master/TFM/Figs/0.7_Shap_summary_plot.png',bbox_inches = 'tight')"
   ]
  },
  {
   "cell_type": "code",
   "execution_count": 28,
   "id": "24add26e",
   "metadata": {},
   "outputs": [
    {
     "data": {
      "image/png": "[encoded data removed]",
      "text/plain": [
       "<Figure size 576x684 with 1 Axes>"
      ]
     },
     "metadata": {
      "needs_background": "light"
     },
     "output_type": "display_data"
    }
   ],
   "source": [
    "plt.title('Feature importance based on SHAP values (Bar)')\n",
    "shap.summary_plot(shap_values, df, plot_type=\"bar\", show=False)\n",
    "plt.rcParams['savefig.facecolor']='white'\n",
    "plt.savefig('/users/alfon/Desktop/Master/TFM/Figs/0.7_Shap_summary_plot_bar.png',bbox_inches = 'tight')"
   ]
  }
 ],
 "metadata": {
  "kernelspec": {
   "display_name": "Python 3 (ipykernel)",
   "language": "python",
   "name": "python3"
  },
  "language_info": {
   "codemirror_mode": {
    "name": "ipython",
    "version": 3
   },
   "file_extension": ".py",
   "mimetype": "text/x-python",
   "name": "python",
   "nbconvert_exporter": "python",
   "pygments_lexer": "ipython3",
   "version": "3.9.9"
  }
 },
 "nbformat": 4,
 "nbformat_minor": 5
}
