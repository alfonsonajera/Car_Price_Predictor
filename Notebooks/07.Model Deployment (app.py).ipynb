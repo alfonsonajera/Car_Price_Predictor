{
 "cells": [
  {
   "cell_type": "markdown",
   "id": "9bb6dbf0",
   "metadata": {},
   "source": [
    "# 07. Model Deployment"
   ]
  },
  {
   "cell_type": "code",
   "execution_count": 1,
   "id": "0d4a61cc",
   "metadata": {},
   "outputs": [],
   "source": [
    "import streamlit as st\n",
    "import pickle\n",
    "import pandas as pd\n",
    "import numpy as np\n",
    "from category_encoders import TargetEncoder\n",
    "import bz2\n",
    "import _pickle as cPickle\n",
    "import shap"
   ]
  },
  {
   "cell_type": "code",
   "execution_count": 3,
   "id": "f5635223",
   "metadata": {},
   "outputs": [],
   "source": [
    "compressed_model = bz2.BZ2File(\"RF_price_predicting_model.pkl.pbz2\", 'rb')\n",
    "model = cPickle.load(compressed_model)"
   ]
  },
  {
   "cell_type": "code",
   "execution_count": 4,
   "id": "63fee2c0",
   "metadata": {},
   "outputs": [
    {
     "name": "stderr",
     "output_type": "stream",
     "text": [
      "2022-01-02 16:30:36.464 \n",
      "  \u001b[33m\u001b[1mWarning:\u001b[0m to view this Streamlit app on a browser, run it with the following\n",
      "  command:\n",
      "\n",
      "    streamlit run /opt/anaconda3/envs/geo_env/lib/python3.9/site-packages/ipykernel_launcher.py [ARGUMENTS]\n"
     ]
    }
   ],
   "source": [
    "st.write(\"\"\"\n",
    "# VhehiCALC\n",
    "This app predicts **Used Cars Values**!\n",
    "\"\"\")\n",
    "st.write('---')"
   ]
  },
  {
   "cell_type": "code",
   "execution_count": 5,
   "id": "48680b3d",
   "metadata": {},
   "outputs": [
    {
     "data": {
      "text/plain": [
       "DeltaGenerator(_root_container=1, _provided_cursor=None, _parent=DeltaGenerator(_root_container=0, _provided_cursor=None, _parent=None, _block_type=None, _form_data=None), _block_type=None, _form_data=None)"
      ]
     },
     "execution_count": 5,
     "metadata": {},
     "output_type": "execute_result"
    }
   ],
   "source": [
    "# Sidebar\n",
    "# Header of Specify Input Parameters\n",
    "st.sidebar.header('Specify Input Parameters')"
   ]
  },
  {
   "cell_type": "code",
   "execution_count": 17,
   "id": "bbc02ab3",
   "metadata": {},
   "outputs": [],
   "source": [
    "# Loads the Used Cars Dataset\n",
    "cars_final = pd.read_csv('/users/alfon/Desktop/Master/TFM/CSV/03.cars_final_def.csv')\n",
    "cars_final = cars_final.drop(['Version', 'ZIP'], axis=1)\n",
    "cars_final['Province'] = cars_final['Province'].fillna(\"Other\")\n",
    "X= cars_final[cars_final.columns[:-1]]\n",
    "y= cars_final[cars_final.columns[-1]]"
   ]
  },
  {
   "cell_type": "code",
   "execution_count": 15,
   "id": "9bd82148",
   "metadata": {},
   "outputs": [],
   "source": [
    "def user_input_features():\n",
    "    \n",
    "    \n",
    "    BRAND = st.sidebar.selectbox('Brand', np.sort(cars_final.Brand.unique()), index = 8)\n",
    "    MODEL = st.sidebar.selectbox('Model', np.sort(cars_final[cars_final.Brand == BRAND].Model.unique()), index=0)\n",
    "        \n",
    "    YEAR = st.sidebar.slider('Year', int(X.Year.min()), int(X.Year.max()), 2021)\n",
    "    KMS = st.sidebar.number_input('Kms', 0, 1000000, 0, step = 1)\n",
    "    HP = st.sidebar.slider('Power(Hp)', 0, 1000, 0)\n",
    "    TRANSMISSION = st.sidebar.selectbox('Transmission', X.Gear_type.unique())\n",
    "    FUEL = st.sidebar.selectbox('Fuel type', cars_final.Fuel_type.unique(), index=0)\n",
    "    \n",
    "    \n",
    "    CONS = st.sidebar.slider('Fuel cons', int(X.Fuel_cons.min()), int(X.Fuel_cons.max()), int(X.Fuel_cons.mean()))\n",
    "    DOORS = st.sidebar.slider('Doors', int(X.Doors.min()), int(X.Doors.max()), 5)\n",
    "    COLOUR = st.sidebar.selectbox('Colour', np.sort(cars_final.Colour.unique()), index=12)\n",
    "    TYPE = st.sidebar.selectbox('Type', cars_final.Type.unique(), index=0)\n",
    "    \n",
    "    \n",
    "    \n",
    "    PROVINCE = st.sidebar.selectbox('Province', np.sort(cars_final.Province.unique()), index=29)\n",
    "    SELLER = st.sidebar.radio(\"Seller\", (\"Dealer\", \"Private\"))\n",
    "    \n",
    "    \n",
    "    data = {'Brand': BRAND,\n",
    "            'Model': MODEL,\n",
    "            'Type': TYPE,\n",
    "            'Year': YEAR,\n",
    "            'Kms': KMS,\n",
    "            'Hp': HP,\n",
    "            'Gear_type': TRANSMISSION,\n",
    "            'Fuel_type': FUEL,\n",
    "            'Fuel_cons': CONS,\n",
    "            'Doors': DOORS,\n",
    "            'Colour': COLOUR,\n",
    "            'Province': PROVINCE,\n",
    "            'Seller': SELLER}\n",
    "    \n",
    "    features = pd.DataFrame(data, index=[0])\n",
    "    return features\n",
    "\n",
    "df_frontend = user_input_features()\n"
   ]
  },
  {
   "cell_type": "code",
   "execution_count": 16,
   "id": "ef11c9da",
   "metadata": {},
   "outputs": [],
   "source": [
    "def main():\n",
    "    \n",
    "    \n",
    "    \n",
    "    # Main Panel\n",
    "\n",
    "    # Print specified input parameters\n",
    "    st.header('Specified Input parameters')\n",
    "    st.write(df_frontend)\n",
    "    st.write('---')\n",
    "\n",
    "    # Build Regression Model\n",
    "\n",
    "    df = pd.concat([df_frontend, X], axis=0).reset_index().drop('index', axis=1)\n",
    "\n",
    "    for col in ['Brand','Gear_type', 'Fuel_type','Type','Seller']:\n",
    "        df[col] = df[col].astype('category')\n",
    "\n",
    "    df = pd.get_dummies(data=df,columns=['Gear_type','Fuel_type','Type','Seller'])\n",
    "\n",
    "    encoder = TargetEncoder()\n",
    "\n",
    "\n",
    "    cols_to_encode = ['Brand','Model', 'Colour', 'Province']\n",
    "    cols_encoded = list(map(lambda c: c + '_encoded', cols_to_encode))\n",
    "\n",
    "    df[cols_encoded] = encoder.fit_transform(df[cols_to_encode], df.Year)\n",
    "\n",
    "    df.drop(['Brand','Model', 'Colour', 'Province'], axis = 1, inplace = True)\n",
    "\n",
    "    df_pred = df[:1]\n",
    "\n",
    "    # Apply Model to Make Prediction\n",
    "\n",
    "    prediction = pd.DataFrame(model.predict(df_pred))\n",
    "    prediction.columns = ['Price_EUR']\n",
    "  \n",
    "  \n",
    "\n",
    "    st.header('The predicted value for this cars is:')\n",
    "    st.write(prediction)\n",
    "    st.write('---')\n",
    "    \n",
    "\n",
    "if __name__ == \"__main__\":\n",
    "    main()\n"
   ]
  }
 ],
 "metadata": {
  "kernelspec": {
   "display_name": "Python 3 (ipykernel)",
   "language": "python",
   "name": "python3"
  },
  "language_info": {
   "codemirror_mode": {
    "name": "ipython",
    "version": 3
   },
   "file_extension": ".py",
   "mimetype": "text/x-python",
   "name": "python",
   "nbconvert_exporter": "python",
   "pygments_lexer": "ipython3",
   "version": "3.9.7"
  }
 },
 "nbformat": 4,
 "nbformat_minor": 5
}
