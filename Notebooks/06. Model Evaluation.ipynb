{
 "cells": [
  {
   "cell_type": "markdown",
   "id": "acb769f0",
   "metadata": {},
   "source": [
    "# 06. Model Evaluation & Improvement"
   ]
  },
  {
   "cell_type": "code",
   "execution_count": 1,
   "id": "3c08159a",
   "metadata": {},
   "outputs": [],
   "source": [
    "import pandas as pd\n",
    "import numpy as np\n",
    "import matplotlib.pyplot as plt\n",
    "%matplotlib inline\n",
    "\n",
    "from sklearn import metrics\n",
    "from sklearn import feature_selection\n",
    "\n",
    "from sklearn import model_selection\n",
    "from sklearn.linear_model import LinearRegression\n",
    "from sklearn.ensemble import RandomForestRegressor\n",
    "from sklearn.tree import DecisionTreeRegressor\n",
    "from sklearn.model_selection import train_test_split\n",
    "\n",
    "from sklearn.metrics import *"
   ]
  },
  {
   "cell_type": "code",
   "execution_count": 2,
   "id": "8ede7a9f",
   "metadata": {},
   "outputs": [
    {
     "data": {
      "text/html": [
       "<div>\n",
       "<style scoped>\n",
       "    .dataframe tbody tr th:only-of-type {\n",
       "        vertical-align: middle;\n",
       "    }\n",
       "\n",
       "    .dataframe tbody tr th {\n",
       "        vertical-align: top;\n",
       "    }\n",
       "\n",
       "    .dataframe thead th {\n",
       "        text-align: right;\n",
       "    }\n",
       "</style>\n",
       "<table border=\"1\" class=\"dataframe\">\n",
       "  <thead>\n",
       "    <tr style=\"text-align: right;\">\n",
       "      <th></th>\n",
       "      <th>Year</th>\n",
       "      <th>Kms</th>\n",
       "      <th>Hp</th>\n",
       "      <th>Fuel_cons</th>\n",
       "      <th>Doors</th>\n",
       "      <th>Gear_type_Automatic</th>\n",
       "      <th>Gear_type_Manual</th>\n",
       "      <th>Fuel_type_CNG</th>\n",
       "      <th>Fuel_type_Diesel</th>\n",
       "      <th>Fuel_type_Electric</th>\n",
       "      <th>...</th>\n",
       "      <th>Type_small</th>\n",
       "      <th>Type_suv</th>\n",
       "      <th>Type_van</th>\n",
       "      <th>Seller_Dealer</th>\n",
       "      <th>Seller_Private</th>\n",
       "      <th>Brand_encoded</th>\n",
       "      <th>Model_encoded</th>\n",
       "      <th>Colour_encoded</th>\n",
       "      <th>Province_encoded</th>\n",
       "      <th>Price_EUR</th>\n",
       "    </tr>\n",
       "  </thead>\n",
       "  <tbody>\n",
       "    <tr>\n",
       "      <th>0</th>\n",
       "      <td>2006</td>\n",
       "      <td>182510</td>\n",
       "      <td>68</td>\n",
       "      <td>4.4</td>\n",
       "      <td>5</td>\n",
       "      <td>0</td>\n",
       "      <td>1</td>\n",
       "      <td>0</td>\n",
       "      <td>1</td>\n",
       "      <td>0</td>\n",
       "      <td>...</td>\n",
       "      <td>1</td>\n",
       "      <td>0</td>\n",
       "      <td>0</td>\n",
       "      <td>1</td>\n",
       "      <td>0</td>\n",
       "      <td>10412.196983</td>\n",
       "      <td>8547.619048</td>\n",
       "      <td>15207.210252</td>\n",
       "      <td>22252.941248</td>\n",
       "      <td>2400</td>\n",
       "    </tr>\n",
       "    <tr>\n",
       "      <th>1</th>\n",
       "      <td>2017</td>\n",
       "      <td>67478</td>\n",
       "      <td>125</td>\n",
       "      <td>4.9</td>\n",
       "      <td>5</td>\n",
       "      <td>0</td>\n",
       "      <td>1</td>\n",
       "      <td>0</td>\n",
       "      <td>0</td>\n",
       "      <td>0</td>\n",
       "      <td>...</td>\n",
       "      <td>1</td>\n",
       "      <td>0</td>\n",
       "      <td>0</td>\n",
       "      <td>1</td>\n",
       "      <td>0</td>\n",
       "      <td>25546.556757</td>\n",
       "      <td>16731.591241</td>\n",
       "      <td>15207.210252</td>\n",
       "      <td>22252.941248</td>\n",
       "      <td>14990</td>\n",
       "    </tr>\n",
       "    <tr>\n",
       "      <th>2</th>\n",
       "      <td>2007</td>\n",
       "      <td>31510</td>\n",
       "      <td>98</td>\n",
       "      <td>6.6</td>\n",
       "      <td>5</td>\n",
       "      <td>0</td>\n",
       "      <td>1</td>\n",
       "      <td>0</td>\n",
       "      <td>0</td>\n",
       "      <td>0</td>\n",
       "      <td>...</td>\n",
       "      <td>1</td>\n",
       "      <td>0</td>\n",
       "      <td>0</td>\n",
       "      <td>1</td>\n",
       "      <td>0</td>\n",
       "      <td>11099.399408</td>\n",
       "      <td>9136.680000</td>\n",
       "      <td>15207.210252</td>\n",
       "      <td>22252.941248</td>\n",
       "      <td>4950</td>\n",
       "    </tr>\n",
       "    <tr>\n",
       "      <th>3</th>\n",
       "      <td>2017</td>\n",
       "      <td>34985</td>\n",
       "      <td>92</td>\n",
       "      <td>0.0</td>\n",
       "      <td>5</td>\n",
       "      <td>1</td>\n",
       "      <td>0</td>\n",
       "      <td>0</td>\n",
       "      <td>0</td>\n",
       "      <td>1</td>\n",
       "      <td>...</td>\n",
       "      <td>1</td>\n",
       "      <td>0</td>\n",
       "      <td>0</td>\n",
       "      <td>1</td>\n",
       "      <td>0</td>\n",
       "      <td>11099.399408</td>\n",
       "      <td>10966.931096</td>\n",
       "      <td>15207.210252</td>\n",
       "      <td>22252.941248</td>\n",
       "      <td>10830</td>\n",
       "    </tr>\n",
       "    <tr>\n",
       "      <th>4</th>\n",
       "      <td>2006</td>\n",
       "      <td>83700</td>\n",
       "      <td>174</td>\n",
       "      <td>6.2</td>\n",
       "      <td>5</td>\n",
       "      <td>0</td>\n",
       "      <td>1</td>\n",
       "      <td>0</td>\n",
       "      <td>0</td>\n",
       "      <td>0</td>\n",
       "      <td>...</td>\n",
       "      <td>1</td>\n",
       "      <td>0</td>\n",
       "      <td>0</td>\n",
       "      <td>1</td>\n",
       "      <td>0</td>\n",
       "      <td>17251.958184</td>\n",
       "      <td>19240.750000</td>\n",
       "      <td>15207.210252</td>\n",
       "      <td>22252.941248</td>\n",
       "      <td>9800</td>\n",
       "    </tr>\n",
       "  </tbody>\n",
       "</table>\n",
       "<p>5 rows × 29 columns</p>\n",
       "</div>"
      ],
      "text/plain": [
       "   Year     Kms   Hp  Fuel_cons  Doors  Gear_type_Automatic  Gear_type_Manual  \\\n",
       "0  2006  182510   68        4.4      5                    0                 1   \n",
       "1  2017   67478  125        4.9      5                    0                 1   \n",
       "2  2007   31510   98        6.6      5                    0                 1   \n",
       "3  2017   34985   92        0.0      5                    1                 0   \n",
       "4  2006   83700  174        6.2      5                    0                 1   \n",
       "\n",
       "   Fuel_type_CNG  Fuel_type_Diesel  Fuel_type_Electric  ...  Type_small  \\\n",
       "0              0                 1                   0  ...           1   \n",
       "1              0                 0                   0  ...           1   \n",
       "2              0                 0                   0  ...           1   \n",
       "3              0                 0                   1  ...           1   \n",
       "4              0                 0                   0  ...           1   \n",
       "\n",
       "   Type_suv  Type_van  Seller_Dealer  Seller_Private  Brand_encoded  \\\n",
       "0         0         0              1               0   10412.196983   \n",
       "1         0         0              1               0   25546.556757   \n",
       "2         0         0              1               0   11099.399408   \n",
       "3         0         0              1               0   11099.399408   \n",
       "4         0         0              1               0   17251.958184   \n",
       "\n",
       "   Model_encoded  Colour_encoded  Province_encoded  Price_EUR  \n",
       "0    8547.619048    15207.210252      22252.941248       2400  \n",
       "1   16731.591241    15207.210252      22252.941248      14990  \n",
       "2    9136.680000    15207.210252      22252.941248       4950  \n",
       "3   10966.931096    15207.210252      22252.941248      10830  \n",
       "4   19240.750000    15207.210252      22252.941248       9800  \n",
       "\n",
       "[5 rows x 29 columns]"
      ]
     },
     "execution_count": 2,
     "metadata": {},
     "output_type": "execute_result"
    }
   ],
   "source": [
    "df = pd.read_csv('/users/alfon/Desktop/Master/TFM/CSV/04.cars_features_def.csv')\n",
    "df.head()\n"
   ]
  },
  {
   "cell_type": "code",
   "execution_count": 3,
   "id": "6f27e9da",
   "metadata": {},
   "outputs": [],
   "source": [
    "X = df[df.columns[:-1]].to_numpy()\n",
    "y = df[df.columns[-1]].to_numpy()"
   ]
  },
  {
   "cell_type": "code",
   "execution_count": 4,
   "id": "19f70dd7",
   "metadata": {},
   "outputs": [],
   "source": [
    "lr = LinearRegression()\n",
    "rf = RandomForestRegressor()\n",
    "dt = DecisionTreeRegressor()\n",
    "\n",
    "X_train, X_test, y_train, y_test = train_test_split(X, y, random_state=7)"
   ]
  },
  {
   "cell_type": "code",
   "execution_count": 5,
   "id": "25d719aa",
   "metadata": {},
   "outputs": [
    {
     "name": "stdout",
     "output_type": "stream",
     "text": [
      "\n",
      "LinearRegression()\n",
      "--------\n",
      "7372.332885245852\n",
      "0.5543654120906143\n",
      "905211550.7072233\n",
      "0.6486730173384534\n",
      "\n",
      "DecisionTreeRegressor()\n",
      "--------\n",
      "4390.02028700977\n",
      "0.18966298882476704\n",
      "920595679.5840384\n",
      "0.6426419170454258\n",
      "\n",
      "RandomForestRegressor()\n",
      "--------\n",
      "3311.155412837533\n",
      "0.14353699396759143\n",
      "671465803.3291647\n",
      "0.7393622797668288\n"
     ]
    }
   ],
   "source": [
    "for model in [lr, dt, rf]:\n",
    "    \n",
    "    model.fit(X_train, y_train)\n",
    "    predictions = model.predict(X_test)\n",
    "    \n",
    "    print('\\n' + str(model) + '\\n--------')\n",
    "    for metric in [mean_absolute_error, \n",
    "                   mean_absolute_percentage_error, \n",
    "                   mean_squared_error, \n",
    "                   explained_variance_score]:\n",
    "        \n",
    "        print(metric(y_test, predictions))"
   ]
  },
  {
   "cell_type": "code",
   "execution_count": 6,
   "id": "a3d0bee7",
   "metadata": {},
   "outputs": [
    {
     "data": {
      "text/plain": [
       "<matplotlib.collections.PathCollection at 0x158a01550>"
      ]
     },
     "execution_count": 6,
     "metadata": {},
     "output_type": "execute_result"
    },
    {
     "data": {
      "image/png": "[encoded data removed]",
      "text/plain": [
       "<Figure size 432x288 with 1 Axes>"
      ]
     },
     "metadata": {
      "needs_background": "light"
     },
     "output_type": "display_data"
    }
   ],
   "source": [
    "plt.scatter(y_test,lr.predict(X_test))"
   ]
  },
  {
   "cell_type": "code",
   "execution_count": 7,
   "id": "7228901f",
   "metadata": {},
   "outputs": [
    {
     "data": {
      "text/plain": [
       "<matplotlib.collections.PathCollection at 0x158bd3a90>"
      ]
     },
     "execution_count": 7,
     "metadata": {},
     "output_type": "execute_result"
    },
    {
     "data": {
      "image/png": "[encoded data removed]",
      "text/plain": [
       "<Figure size 432x288 with 1 Axes>"
      ]
     },
     "metadata": {
      "needs_background": "light"
     },
     "output_type": "display_data"
    }
   ],
   "source": [
    "plt.scatter(y_test,dt.predict(X_test))"
   ]
  },
  {
   "cell_type": "code",
   "execution_count": 8,
   "id": "a8ba0946",
   "metadata": {},
   "outputs": [
    {
     "data": {
      "text/plain": [
       "<matplotlib.collections.PathCollection at 0x158caaa30>"
      ]
     },
     "execution_count": 8,
     "metadata": {},
     "output_type": "execute_result"
    },
    {
     "data": {
      "image/png": "[encoded data removed]",
      "text/plain": [
       "<Figure size 432x288 with 1 Axes>"
      ]
     },
     "metadata": {
      "needs_background": "light"
     },
     "output_type": "display_data"
    }
   ],
   "source": [
    "plt.scatter(y_test,rf.predict(X_test))"
   ]
  },
  {
   "cell_type": "code",
   "execution_count": null,
   "id": "4295cbfd",
   "metadata": {},
   "outputs": [],
   "source": []
  },
  {
   "cell_type": "markdown",
   "id": "b25eb558",
   "metadata": {},
   "source": [
    "## K Fold Cross Validation"
   ]
  },
  {
   "cell_type": "code",
   "execution_count": 9,
   "id": "ffdaf252",
   "metadata": {},
   "outputs": [],
   "source": [
    "from sklearn.model_selection import cross_val_score\n"
   ]
  },
  {
   "cell_type": "code",
   "execution_count": 10,
   "id": "fb8c54e4",
   "metadata": {},
   "outputs": [
    {
     "name": "stdout",
     "output_type": "stream",
     "text": [
      "\n",
      "LinearRegression()\n",
      " Cross Val Score 0.7613030038830673\n",
      " Std 0.062384271605662484\n",
      " Results [0.78820426 0.75048999 0.80544721 0.81737176 0.64500179]\n",
      "\n",
      "DecisionTreeRegressor()\n",
      " Cross Val Score 0.8118144775611814\n",
      " Std 0.028060704610965423\n",
      " Results [0.84504026 0.76593387 0.79827616 0.8148685  0.83495361]\n",
      "\n",
      "RandomForestRegressor()\n",
      " Cross Val Score 0.8612597891905247\n",
      " Std 0.03289207473398755\n",
      " Results [0.88919352 0.81568836 0.86987255 0.90068279 0.83086173]\n"
     ]
    }
   ],
   "source": [
    "for model in [lr, dt, rf]:\n",
    "    \n",
    "    results = cross_val_score(model, X_train, y_train, cv=5)\n",
    "    \n",
    "    print(\"\\n\" + str(model) + f\"\\n Cross Val Score {np.mean(results)}\" + f\"\\n Std {np.std(results)}\" + f\"\\n Results {results}\")"
   ]
  },
  {
   "cell_type": "markdown",
   "id": "b08d2fba",
   "metadata": {},
   "source": [
    "Pros\n",
    "\n",
    "* Estimation of variance of our model\n",
    "* Better use of data\n",
    "\n",
    "Cons\n",
    "\n",
    "* Computational cost"
   ]
  },
  {
   "cell_type": "code",
   "execution_count": 11,
   "id": "562b523c",
   "metadata": {},
   "outputs": [
    {
     "data": {
      "text/html": [
       "<div>\n",
       "<style scoped>\n",
       "    .dataframe tbody tr th:only-of-type {\n",
       "        vertical-align: middle;\n",
       "    }\n",
       "\n",
       "    .dataframe tbody tr th {\n",
       "        vertical-align: top;\n",
       "    }\n",
       "\n",
       "    .dataframe thead th {\n",
       "        text-align: right;\n",
       "    }\n",
       "</style>\n",
       "<table border=\"1\" class=\"dataframe\">\n",
       "  <thead>\n",
       "    <tr style=\"text-align: right;\">\n",
       "      <th></th>\n",
       "      <th>model</th>\n",
       "      <th>minimum_r2</th>\n",
       "      <th>mean_r2</th>\n",
       "      <th>maximum_r2</th>\n",
       "      <th>std_r2</th>\n",
       "    </tr>\n",
       "  </thead>\n",
       "  <tbody>\n",
       "    <tr>\n",
       "      <th>0</th>\n",
       "      <td>lr</td>\n",
       "      <td>0.600351</td>\n",
       "      <td>0.727323</td>\n",
       "      <td>0.796046</td>\n",
       "      <td>0.078021</td>\n",
       "    </tr>\n",
       "    <tr>\n",
       "      <th>1</th>\n",
       "      <td>dt</td>\n",
       "      <td>0.407701</td>\n",
       "      <td>0.720416</td>\n",
       "      <td>0.859377</td>\n",
       "      <td>0.165024</td>\n",
       "    </tr>\n",
       "    <tr>\n",
       "      <th>2</th>\n",
       "      <td>rf</td>\n",
       "      <td>0.707168</td>\n",
       "      <td>0.832599</td>\n",
       "      <td>0.885023</td>\n",
       "      <td>0.065692</td>\n",
       "    </tr>\n",
       "  </tbody>\n",
       "</table>\n",
       "</div>"
      ],
      "text/plain": [
       "  model  minimum_r2   mean_r2  maximum_r2    std_r2\n",
       "0    lr    0.600351  0.727323    0.796046  0.078021\n",
       "1    dt    0.407701  0.720416    0.859377  0.165024\n",
       "2    rf    0.707168  0.832599    0.885023  0.065692"
      ]
     },
     "execution_count": 11,
     "metadata": {},
     "output_type": "execute_result"
    }
   ],
   "source": [
    "# Models for this study\n",
    "models = []\n",
    "models.append(('lr', LinearRegression()))\n",
    "models.append(('dt', DecisionTreeRegressor()))\n",
    "models.append(('rf', RandomForestRegressor()))\n",
    "\n",
    "\n",
    "\n",
    "# Defining columns\n",
    "names = []\n",
    "results = []\n",
    "minimums = []\n",
    "means = []\n",
    "stds = []\n",
    "maximums = []\n",
    "\n",
    "scoring = 'r2'\n",
    "\n",
    "# Defining the algorithm function\n",
    "def cross_val_algorithm(name, model):\n",
    "    '''\n",
    "    Function that runs the cross-validation (CV) for the named algorithm\n",
    "    - name: Designation of the algorithm. \n",
    "    - model: Algorithm to be applied.\n",
    "    '''\n",
    "    kfold = model_selection.KFold(n_splits=5, shuffle=True)\n",
    "    cv_results = model_selection.cross_val_score(estimator=model,\n",
    "                                                 X=X,\n",
    "                                                 y=y,\n",
    "                                                 cv=kfold,\n",
    "                                                 scoring=scoring)\n",
    "    \n",
    "    # Appending each iteration to the lists created above\n",
    "    names.append(name)\n",
    "    results.append(cv_results)\n",
    "    minimums.append(cv_results.min())\n",
    "    means.append(cv_results.mean())\n",
    "    stds.append(cv_results.std())\n",
    "    maximums.append(cv_results.max())\n",
    "\n",
    "# Running the algorithm for each model in the list designated\n",
    "for name, model in models:\n",
    "\n",
    "    cross_val_algorithm(name, model)\n",
    "\n",
    "# Creating a DataFrame :\n",
    "models_df = pd.DataFrame({'model': names,\n",
    "                          'minimum_r2': minimums,\n",
    "                          'mean_r2': means,\n",
    "                          'maximum_r2': maximums,\n",
    "                          'std_r2': stds})\n",
    "\n",
    "\n",
    "models_df \n",
    "\n"
   ]
  },
  {
   "cell_type": "code",
   "execution_count": 12,
   "id": "f6c15427",
   "metadata": {},
   "outputs": [],
   "source": [
    "import seaborn as sns"
   ]
  },
  {
   "cell_type": "code",
   "execution_count": 22,
   "id": "11ed9deb",
   "metadata": {},
   "outputs": [
    {
     "data": {
      "image/png": "[encoded data removed]",
      "text/plain": [
       "<Figure size 720x432 with 1 Axes>"
      ]
     },
     "metadata": {
      "needs_background": "light"
     },
     "output_type": "display_data"
    }
   ],
   "source": [
    "plt.figure(figsize=(10, 6))\n",
    "\n",
    "sns.lineplot(data=results, dashes=True)\n",
    "\n",
    "plt.title('Regression models K-fold cross validation performance')\n",
    "plt.xticks(list(range(0, 5)), list(range(1, 6)))\n",
    "plt.xlabel('K-Fold iteration')\n",
    "plt.yticks(np.arange(0, 1, .05))\n",
    "plt.ylabel('r2 score')\n",
    "\n",
    "plt.legend(names)\n",
    "\n",
    "\n",
    "plt.show()"
   ]
  },
  {
   "cell_type": "code",
   "execution_count": 14,
   "id": "8cb7a6bd",
   "metadata": {},
   "outputs": [
    {
     "name": "stderr",
     "output_type": "stream",
     "text": [
      "/var/folders/8d/r5dgt6bd65964tjj89vgvwh40000gn/T/ipykernel_33232/3574728069.py:9: UserWarning: Matplotlib is currently using module://matplotlib_inline.backend_inline, which is a non-GUI backend, so cannot show the figure.\n",
      "  fig.show()\n"
     ]
    },
    {
     "data": {
      "image/png": "[encoded data removed]",
      "text/plain": [
       "<Figure size 720x432 with 1 Axes>"
      ]
     },
     "metadata": {
      "needs_background": "light"
     },
     "output_type": "display_data"
    }
   ],
   "source": [
    "fig , ax1 = plt.subplots(figsize=(10,6))\n",
    "ax1.set_title(\"Regression models K-fold cross validation performance\")\n",
    "ax1.set_xlabel('models') \n",
    "ax1.set_ylabel('r2 score') \n",
    "labels = names\n",
    "ax1.boxplot(results) \n",
    "ax1.set_xticklabels(labels)\n",
    "\n",
    "fig.show()"
   ]
  },
  {
   "cell_type": "code",
   "execution_count": 15,
   "id": "f32e1ca2",
   "metadata": {},
   "outputs": [],
   "source": [
    "models_df.set_index('model', inplace = True)"
   ]
  },
  {
   "cell_type": "code",
   "execution_count": 36,
   "id": "9258adc7",
   "metadata": {},
   "outputs": [
    {
     "data": {
      "text/plain": [
       "(array([0, 1, 2]), [Text(0, 0, 'lr'), Text(1, 0, 'dt'), Text(2, 0, 'rf')])"
      ]
     },
     "execution_count": 36,
     "metadata": {},
     "output_type": "execute_result"
    },
    {
     "data": {
      "image/png": "[encoded data removed]",
      "text/plain": [
       "<Figure size 432x288 with 1 Axes>"
      ]
     },
     "metadata": {
      "needs_background": "light"
     },
     "output_type": "display_data"
    }
   ],
   "source": [
    "models_df[\"mean_r2\"].plot(kind = \"bar\")\n",
    "plt.xticks(rotation=0)\n",
    "\n"
   ]
  },
  {
   "cell_type": "code",
   "execution_count": 74,
   "id": "86ae47d4",
   "metadata": {},
   "outputs": [],
   "source": [
    "#Grid Search\n"
   ]
  },
  {
   "cell_type": "code",
   "execution_count": 42,
   "id": "27e7e08d",
   "metadata": {},
   "outputs": [],
   "source": [
    "\n",
    "\n",
    "from sklearn.model_selection import GridSearchCV, RandomizedSearchCV"
   ]
  },
  {
   "cell_type": "code",
   "execution_count": 69,
   "id": "74aaab4b",
   "metadata": {},
   "outputs": [],
   "source": [
    "rf = RandomForestRegressor()\n",
    "gs = model_selection.GridSearchCV(rf, {'max_depth': [1,2,3,4,5,7,10,15,20,40,100], \n",
    "                                        'min_samples_leaf' : [1,5,10,50,100,200,300,400,500]},\n",
    "                                  scoring = 'r2', cv = 5, n_jobs=-1)"
   ]
  },
  {
   "cell_type": "code",
   "execution_count": 70,
   "id": "fd23bace",
   "metadata": {},
   "outputs": [
    {
     "data": {
      "text/plain": [
       "GridSearchCV(cv=5, estimator=RandomForestRegressor(), n_jobs=-1,\n",
       "             param_grid={'max_depth': [1, 2, 3, 4, 5, 7, 10, 15, 20, 40, 100],\n",
       "                         'min_samples_leaf': [1, 5, 10, 50, 100, 200, 300, 400,\n",
       "                                              500]},\n",
       "             scoring='r2')"
      ]
     },
     "execution_count": 70,
     "metadata": {},
     "output_type": "execute_result"
    }
   ],
   "source": [
    "gs.fit(X_train[:,-1].reshape(-1,1), y_train)"
   ]
  },
  {
   "cell_type": "code",
   "execution_count": 71,
   "id": "524577d4",
   "metadata": {},
   "outputs": [
    {
     "data": {
      "text/plain": [
       "{'max_depth': 3, 'min_samples_leaf': 400}"
      ]
     },
     "execution_count": 71,
     "metadata": {},
     "output_type": "execute_result"
    }
   ],
   "source": [
    "gs.best_params_"
   ]
  },
  {
   "cell_type": "code",
   "execution_count": 72,
   "id": "e091bfc3",
   "metadata": {},
   "outputs": [
    {
     "data": {
      "text/html": [
       "<div>\n",
       "<style scoped>\n",
       "    .dataframe tbody tr th:only-of-type {\n",
       "        vertical-align: middle;\n",
       "    }\n",
       "\n",
       "    .dataframe tbody tr th {\n",
       "        vertical-align: top;\n",
       "    }\n",
       "\n",
       "    .dataframe thead th {\n",
       "        text-align: right;\n",
       "    }\n",
       "</style>\n",
       "<table border=\"1\" class=\"dataframe\">\n",
       "  <thead>\n",
       "    <tr style=\"text-align: right;\">\n",
       "      <th></th>\n",
       "      <th>mean_fit_time</th>\n",
       "      <th>std_fit_time</th>\n",
       "      <th>mean_score_time</th>\n",
       "      <th>std_score_time</th>\n",
       "      <th>param_max_depth</th>\n",
       "      <th>param_min_samples_leaf</th>\n",
       "      <th>params</th>\n",
       "      <th>split0_test_score</th>\n",
       "      <th>split1_test_score</th>\n",
       "      <th>split2_test_score</th>\n",
       "      <th>split3_test_score</th>\n",
       "      <th>split4_test_score</th>\n",
       "      <th>mean_test_score</th>\n",
       "      <th>std_test_score</th>\n",
       "      <th>rank_test_score</th>\n",
       "    </tr>\n",
       "  </thead>\n",
       "  <tbody>\n",
       "    <tr>\n",
       "      <th>0</th>\n",
       "      <td>0.402143</td>\n",
       "      <td>0.009322</td>\n",
       "      <td>0.032140</td>\n",
       "      <td>0.003686</td>\n",
       "      <td>1</td>\n",
       "      <td>1</td>\n",
       "      <td>{'max_depth': 1, 'min_samples_leaf': 1}</td>\n",
       "      <td>0.025962</td>\n",
       "      <td>0.035655</td>\n",
       "      <td>0.026342</td>\n",
       "      <td>0.027047</td>\n",
       "      <td>0.029483</td>\n",
       "      <td>0.028898</td>\n",
       "      <td>0.003594</td>\n",
       "      <td>92</td>\n",
       "    </tr>\n",
       "    <tr>\n",
       "      <th>1</th>\n",
       "      <td>0.402805</td>\n",
       "      <td>0.007508</td>\n",
       "      <td>0.029361</td>\n",
       "      <td>0.002644</td>\n",
       "      <td>1</td>\n",
       "      <td>5</td>\n",
       "      <td>{'max_depth': 1, 'min_samples_leaf': 5}</td>\n",
       "      <td>0.026084</td>\n",
       "      <td>0.035192</td>\n",
       "      <td>0.026595</td>\n",
       "      <td>0.026745</td>\n",
       "      <td>0.029393</td>\n",
       "      <td>0.028802</td>\n",
       "      <td>0.003396</td>\n",
       "      <td>96</td>\n",
       "    </tr>\n",
       "    <tr>\n",
       "      <th>2</th>\n",
       "      <td>0.406473</td>\n",
       "      <td>0.006625</td>\n",
       "      <td>0.030104</td>\n",
       "      <td>0.002768</td>\n",
       "      <td>1</td>\n",
       "      <td>10</td>\n",
       "      <td>{'max_depth': 1, 'min_samples_leaf': 10}</td>\n",
       "      <td>0.025852</td>\n",
       "      <td>0.035560</td>\n",
       "      <td>0.026233</td>\n",
       "      <td>0.026969</td>\n",
       "      <td>0.029456</td>\n",
       "      <td>0.028814</td>\n",
       "      <td>0.003599</td>\n",
       "      <td>95</td>\n",
       "    </tr>\n",
       "    <tr>\n",
       "      <th>3</th>\n",
       "      <td>0.408670</td>\n",
       "      <td>0.014822</td>\n",
       "      <td>0.034489</td>\n",
       "      <td>0.002752</td>\n",
       "      <td>1</td>\n",
       "      <td>50</td>\n",
       "      <td>{'max_depth': 1, 'min_samples_leaf': 50}</td>\n",
       "      <td>0.025970</td>\n",
       "      <td>0.035156</td>\n",
       "      <td>0.026770</td>\n",
       "      <td>0.026739</td>\n",
       "      <td>0.029274</td>\n",
       "      <td>0.028782</td>\n",
       "      <td>0.003376</td>\n",
       "      <td>97</td>\n",
       "    </tr>\n",
       "    <tr>\n",
       "      <th>4</th>\n",
       "      <td>0.408316</td>\n",
       "      <td>0.010430</td>\n",
       "      <td>0.028786</td>\n",
       "      <td>0.005051</td>\n",
       "      <td>1</td>\n",
       "      <td>100</td>\n",
       "      <td>{'max_depth': 1, 'min_samples_leaf': 100}</td>\n",
       "      <td>0.025732</td>\n",
       "      <td>0.035324</td>\n",
       "      <td>0.025894</td>\n",
       "      <td>0.027308</td>\n",
       "      <td>0.029158</td>\n",
       "      <td>0.028683</td>\n",
       "      <td>0.003541</td>\n",
       "      <td>99</td>\n",
       "    </tr>\n",
       "    <tr>\n",
       "      <th>...</th>\n",
       "      <td>...</td>\n",
       "      <td>...</td>\n",
       "      <td>...</td>\n",
       "      <td>...</td>\n",
       "      <td>...</td>\n",
       "      <td>...</td>\n",
       "      <td>...</td>\n",
       "      <td>...</td>\n",
       "      <td>...</td>\n",
       "      <td>...</td>\n",
       "      <td>...</td>\n",
       "      <td>...</td>\n",
       "      <td>...</td>\n",
       "      <td>...</td>\n",
       "      <td>...</td>\n",
       "    </tr>\n",
       "    <tr>\n",
       "      <th>94</th>\n",
       "      <td>0.658824</td>\n",
       "      <td>0.016629</td>\n",
       "      <td>0.052291</td>\n",
       "      <td>0.003825</td>\n",
       "      <td>100</td>\n",
       "      <td>100</td>\n",
       "      <td>{'max_depth': 100, 'min_samples_leaf': 100}</td>\n",
       "      <td>0.030904</td>\n",
       "      <td>0.038446</td>\n",
       "      <td>0.027162</td>\n",
       "      <td>0.029877</td>\n",
       "      <td>0.033674</td>\n",
       "      <td>0.032013</td>\n",
       "      <td>0.003833</td>\n",
       "      <td>48</td>\n",
       "    </tr>\n",
       "    <tr>\n",
       "      <th>95</th>\n",
       "      <td>0.616967</td>\n",
       "      <td>0.008652</td>\n",
       "      <td>0.045469</td>\n",
       "      <td>0.003526</td>\n",
       "      <td>100</td>\n",
       "      <td>200</td>\n",
       "      <td>{'max_depth': 100, 'min_samples_leaf': 200}</td>\n",
       "      <td>0.031032</td>\n",
       "      <td>0.038764</td>\n",
       "      <td>0.027225</td>\n",
       "      <td>0.030024</td>\n",
       "      <td>0.033915</td>\n",
       "      <td>0.032192</td>\n",
       "      <td>0.003921</td>\n",
       "      <td>28</td>\n",
       "    </tr>\n",
       "    <tr>\n",
       "      <th>96</th>\n",
       "      <td>0.636775</td>\n",
       "      <td>0.014886</td>\n",
       "      <td>0.048428</td>\n",
       "      <td>0.003373</td>\n",
       "      <td>100</td>\n",
       "      <td>300</td>\n",
       "      <td>{'max_depth': 100, 'min_samples_leaf': 300}</td>\n",
       "      <td>0.031074</td>\n",
       "      <td>0.038682</td>\n",
       "      <td>0.027140</td>\n",
       "      <td>0.030026</td>\n",
       "      <td>0.033941</td>\n",
       "      <td>0.032173</td>\n",
       "      <td>0.003915</td>\n",
       "      <td>34</td>\n",
       "    </tr>\n",
       "    <tr>\n",
       "      <th>97</th>\n",
       "      <td>0.608426</td>\n",
       "      <td>0.016014</td>\n",
       "      <td>0.045322</td>\n",
       "      <td>0.005095</td>\n",
       "      <td>100</td>\n",
       "      <td>400</td>\n",
       "      <td>{'max_depth': 100, 'min_samples_leaf': 400}</td>\n",
       "      <td>0.030949</td>\n",
       "      <td>0.038761</td>\n",
       "      <td>0.027275</td>\n",
       "      <td>0.030440</td>\n",
       "      <td>0.033645</td>\n",
       "      <td>0.032214</td>\n",
       "      <td>0.003848</td>\n",
       "      <td>21</td>\n",
       "    </tr>\n",
       "    <tr>\n",
       "      <th>98</th>\n",
       "      <td>0.553831</td>\n",
       "      <td>0.045153</td>\n",
       "      <td>0.038700</td>\n",
       "      <td>0.011157</td>\n",
       "      <td>100</td>\n",
       "      <td>500</td>\n",
       "      <td>{'max_depth': 100, 'min_samples_leaf': 500}</td>\n",
       "      <td>0.030856</td>\n",
       "      <td>0.038687</td>\n",
       "      <td>0.027468</td>\n",
       "      <td>0.030475</td>\n",
       "      <td>0.033867</td>\n",
       "      <td>0.032271</td>\n",
       "      <td>0.003795</td>\n",
       "      <td>2</td>\n",
       "    </tr>\n",
       "  </tbody>\n",
       "</table>\n",
       "<p>99 rows × 15 columns</p>\n",
       "</div>"
      ],
      "text/plain": [
       "    mean_fit_time  std_fit_time  mean_score_time  std_score_time  \\\n",
       "0        0.402143      0.009322         0.032140        0.003686   \n",
       "1        0.402805      0.007508         0.029361        0.002644   \n",
       "2        0.406473      0.006625         0.030104        0.002768   \n",
       "3        0.408670      0.014822         0.034489        0.002752   \n",
       "4        0.408316      0.010430         0.028786        0.005051   \n",
       "..            ...           ...              ...             ...   \n",
       "94       0.658824      0.016629         0.052291        0.003825   \n",
       "95       0.616967      0.008652         0.045469        0.003526   \n",
       "96       0.636775      0.014886         0.048428        0.003373   \n",
       "97       0.608426      0.016014         0.045322        0.005095   \n",
       "98       0.553831      0.045153         0.038700        0.011157   \n",
       "\n",
       "   param_max_depth param_min_samples_leaf  \\\n",
       "0                1                      1   \n",
       "1                1                      5   \n",
       "2                1                     10   \n",
       "3                1                     50   \n",
       "4                1                    100   \n",
       "..             ...                    ...   \n",
       "94             100                    100   \n",
       "95             100                    200   \n",
       "96             100                    300   \n",
       "97             100                    400   \n",
       "98             100                    500   \n",
       "\n",
       "                                         params  split0_test_score  \\\n",
       "0       {'max_depth': 1, 'min_samples_leaf': 1}           0.025962   \n",
       "1       {'max_depth': 1, 'min_samples_leaf': 5}           0.026084   \n",
       "2      {'max_depth': 1, 'min_samples_leaf': 10}           0.025852   \n",
       "3      {'max_depth': 1, 'min_samples_leaf': 50}           0.025970   \n",
       "4     {'max_depth': 1, 'min_samples_leaf': 100}           0.025732   \n",
       "..                                          ...                ...   \n",
       "94  {'max_depth': 100, 'min_samples_leaf': 100}           0.030904   \n",
       "95  {'max_depth': 100, 'min_samples_leaf': 200}           0.031032   \n",
       "96  {'max_depth': 100, 'min_samples_leaf': 300}           0.031074   \n",
       "97  {'max_depth': 100, 'min_samples_leaf': 400}           0.030949   \n",
       "98  {'max_depth': 100, 'min_samples_leaf': 500}           0.030856   \n",
       "\n",
       "    split1_test_score  split2_test_score  split3_test_score  \\\n",
       "0            0.035655           0.026342           0.027047   \n",
       "1            0.035192           0.026595           0.026745   \n",
       "2            0.035560           0.026233           0.026969   \n",
       "3            0.035156           0.026770           0.026739   \n",
       "4            0.035324           0.025894           0.027308   \n",
       "..                ...                ...                ...   \n",
       "94           0.038446           0.027162           0.029877   \n",
       "95           0.038764           0.027225           0.030024   \n",
       "96           0.038682           0.027140           0.030026   \n",
       "97           0.038761           0.027275           0.030440   \n",
       "98           0.038687           0.027468           0.030475   \n",
       "\n",
       "    split4_test_score  mean_test_score  std_test_score  rank_test_score  \n",
       "0            0.029483         0.028898        0.003594               92  \n",
       "1            0.029393         0.028802        0.003396               96  \n",
       "2            0.029456         0.028814        0.003599               95  \n",
       "3            0.029274         0.028782        0.003376               97  \n",
       "4            0.029158         0.028683        0.003541               99  \n",
       "..                ...              ...             ...              ...  \n",
       "94           0.033674         0.032013        0.003833               48  \n",
       "95           0.033915         0.032192        0.003921               28  \n",
       "96           0.033941         0.032173        0.003915               34  \n",
       "97           0.033645         0.032214        0.003848               21  \n",
       "98           0.033867         0.032271        0.003795                2  \n",
       "\n",
       "[99 rows x 15 columns]"
      ]
     },
     "execution_count": 72,
     "metadata": {},
     "output_type": "execute_result"
    }
   ],
   "source": [
    "pd.DataFrame(gs.cv_results_)"
   ]
  },
  {
   "cell_type": "code",
   "execution_count": 73,
   "id": "329ce300",
   "metadata": {},
   "outputs": [
    {
     "data": {
      "text/plain": [
       "[<matplotlib.lines.Line2D at 0x14d926460>]"
      ]
     },
     "execution_count": 73,
     "metadata": {},
     "output_type": "execute_result"
    },
    {
     "data": {
      "image/png": "[encoded data removed]",
      "text/plain": [
       "<Figure size 432x288 with 1 Axes>"
      ]
     },
     "metadata": {
      "needs_background": "light"
     },
     "output_type": "display_data"
    }
   ],
   "source": [
    "fig, ax = plt.subplots(1,1)\n",
    "ax.plot(np.array(gs.cv_results_[\"param_max_depth\"]), gs.cv_results_[\"mean_test_score\"])"
   ]
  },
  {
   "cell_type": "code",
   "execution_count": null,
   "id": "c33e2e2a",
   "metadata": {},
   "outputs": [],
   "source": []
  }
 ],
 "metadata": {
  "kernelspec": {
   "display_name": "Python 3 (ipykernel)",
   "language": "python",
   "name": "python3"
  },
  "language_info": {
   "codemirror_mode": {
    "name": "ipython",
    "version": 3
   },
   "file_extension": ".py",
   "mimetype": "text/x-python",
   "name": "python",
   "nbconvert_exporter": "python",
   "pygments_lexer": "ipython3",
   "version": "3.9.7"
  }
 },
 "nbformat": 4,
 "nbformat_minor": 5
}
