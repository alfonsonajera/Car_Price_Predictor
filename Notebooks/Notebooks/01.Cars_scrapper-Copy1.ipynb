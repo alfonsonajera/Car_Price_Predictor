{
 "cells": [
  {
   "cell_type": "markdown",
   "metadata": {},
   "source": [
    "# 01. Web Scrapping : Cars Raw"
   ]
  },
  {
   "cell_type": "markdown",
   "metadata": {},
   "source": [
    "The goal of this notebook is to obtain the whole data base for the project by applying web scrapping on the website Autoscout24"
   ]
  },
  {
   "cell_type": "code",
   "execution_count": 1,
   "metadata": {},
   "outputs": [],
   "source": [
    "import pandas as pd\n",
    "import numpy as np\n",
    "import requests\n",
    "from bs4 import BeautifulSoup\n",
    "import re\n",
    "import matplotlib.pyplot as plt\n",
    "\n",
    "from time import sleep\n",
    "from time import time\n",
    "from random import randint"
   ]
  },
  {
   "cell_type": "code",
   "execution_count": 2,
   "metadata": {},
   "outputs": [],
   "source": [
    "# Links for the different categories\n",
    "small_cars_url = \"https://www.autoscout24.es/lst/?sort=age&desc=1&bcol= 1 &offer=D%2CJ%2CO%2CS%2CU&ustate=N%2CU&size=20&page= 1 &cy=E&body=1&atype=C&recommended_sorting_based_id=29e07135-6b02-4c0a-ba49-da018c954028&\"\n",
    "sedan_cars_url = \"https://www.autoscout24.es/lst/?sort=age&desc=1&bcol= 1 &offer=D%2CJ%2CO%2CS%2CU&ustate=N%2CU&size=20&page= 1 &cy=E&body=6&atype=C&recommended_sorting_based_id=29e07135-6b02-4c0a-ba49-da018c954028&\"\n",
    "familiar_cars_url = \"https://www.autoscout24.es/lst/?sort=age&desc=1&bcol= 1 &offer=D%2CJ%2CO%2CS%2CU&ustate=N%2CU&size=20&page= 1& cy=E&body=5&atype=C&recommended_sorting_based_id=29e07135-6b02-4c0a-ba49-da018c954028&\"\n",
    "minivan_cars_url = \"https://www.autoscout24.es/lst/?sort=age&desc=1&bcol= 1 &offer=D%2CJ%2CO%2CS%2CU&ustate=N%2CU&size=20&page= 1 &cy=E&body=12&atype=C&recommended_sorting_based_id=29e07135-6b02-4c0a-ba49-da018c954028&\"\n",
    "coupe_cars_url = \"https://www.autoscout24.es/lst/?sort=age&desc=1&bcol= 1 &offer=D%2CJ%2CO%2CS%2CU&ustate=N%2CU&size=20&page= 1 &cy=E&body=3&atype=C&recommended_sorting_based_id=29e07135-6b02-4c0a-ba49-da018c954028&\"\n",
    "cabrio_cars_url = \"https://www.autoscout24.es/lst/?sort=age&desc=1&bcol= 1 &offer=D%2CJ%2CO%2CS%2CU&ustate=N%2CU&size=20&page= 1 &cy=E&body=2&atype=C&recommended_sorting_based_id=29e07135-6b02-4c0a-ba49-da018c954028&\"\n",
    "suv_cars_url = \"https://www.autoscout24.es/lst/?sort=age&desc=1&bcol= 1 &offer=D%2CJ%2CO%2CS%2CU&ustate=N%2CU&size=20&page= 1 &cy=E&body=4&atype=C&recommended_sorting_based_id=29e07135-6b02-4c0a-ba49-da018c954028&\"\n",
    "van_cars_url = \"https://www.autoscout24.es/lst/?sort=age&desc=1&bcol= 1 &offer=D%2CJ%2CO%2CS%2CU&ustate=N%2CU&size=20&page= 1 &cy=E&body=13&atype=C&recommended_sorting_based_id=29e07135-6b02-4c0a-ba49-da018c954028&\"\n",
    "other_cars_url = \"https://www.autoscout24.es/lst/?sort=age&desc=1&bcol= 1 &offer=D%2CJ%2CO%2CS%2CU&ustate=N%2CU&size=20&page= 1 &cy=E&body=7&atype=C&recommended_sorting_based_id=29e07135-6b02-4c0a-ba49-da018c954028&\"\n",
    "\n"
   ]
  },
  {
   "cell_type": "code",
   "execution_count": 3,
   "metadata": {},
   "outputs": [
    {
     "data": {
      "text/plain": [
       "array(['D', 'P'], dtype='<U1')"
      ]
     },
     "execution_count": 3,
     "metadata": {},
     "output_type": "execute_result"
    }
   ],
   "source": [
    "seller = np.array([\"D\",\"P\"])\n",
    "seller"
   ]
  },
  {
   "cell_type": "code",
   "execution_count": 4,
   "metadata": {},
   "outputs": [],
   "source": [
    "seller_dictionary = {'D': 'Dealer', \n",
    "                      'P': 'Private' }"
   ]
  },
  {
   "cell_type": "markdown",
   "metadata": {},
   "source": [
    "The colour is not available for srapping as we cannot see the field in the main search, so the techical solution is to include it on the website link when setting coding the webpage to be scrapped as if we include &bcol=10& on the path we are extracting cars for colour 10 in this case"
   ]
  },
  {
   "cell_type": "markdown",
   "metadata": {},
   "source": [
    "#example of the colour code in the link:\n",
    "\"https://www.autoscout24.es/lst/?sort=age&desc=1&bcol=1&offer=D%2CJ%2CO%2CS%2CU&ustate=N%2CU&size=20&page=1&cy=E&body=12&atype=C&recommended_sorting_based_id=29e07135-6b02-4c0a-ba49-da018c954028&\""
   ]
  },
  {
   "cell_type": "code",
   "execution_count": 5,
   "metadata": {},
   "outputs": [
    {
     "data": {
      "text/plain": [
       "array([ 1,  2,  3,  4,  5,  6,  7, 10, 11, 12, 13, 14, 15, 16])"
      ]
     },
     "execution_count": 5,
     "metadata": {},
     "output_type": "execute_result"
    }
   ],
   "source": [
    "colours = np.array([1,2,3,4,5,6,7,10,11,12,13,14,15,16])\n",
    "colours"
   ]
  },
  {
   "cell_type": "code",
   "execution_count": 6,
   "metadata": {},
   "outputs": [],
   "source": [
    "colours_dictionary = {'1': 'beige', \n",
    "                      '2': 'blue', \n",
    "                      '3': 'brown', \n",
    "                      '4': 'bronze', \n",
    "                      '5': 'yellow', \n",
    "                      '6': 'grey', \n",
    "                      '7': 'green',\n",
    "                      '10': 'red',\n",
    "                      '11': 'black', \n",
    "                      '12': 'silver', \n",
    "                      '13': 'burgundy', \n",
    "                      '14': 'white', \n",
    "                      '15': 'orange', \n",
    "                      '16': 'gold'}"
   ]
  },
  {
   "cell_type": "code",
   "execution_count": 7,
   "metadata": {},
   "outputs": [
    {
     "data": {
      "text/plain": [
       "array([ 1,  6,  5, 12,  3,  2,  4, 13,  7])"
      ]
     },
     "execution_count": 7,
     "metadata": {},
     "output_type": "execute_result"
    }
   ],
   "source": [
    "body =  np.array([1,6,5,12,3,2,4,13,7])\n",
    "body"
   ]
  },
  {
   "cell_type": "code",
   "execution_count": 8,
   "metadata": {},
   "outputs": [],
   "source": [
    "body_type_dictionary = {'1': 'small', \n",
    "                    '6': 'sedan', \n",
    "                    '5': 'familiar', \n",
    "                    '12': 'minivan', \n",
    "                    '3': 'coupe', \n",
    "                    '2': 'cabrio', \n",
    "                    '4': 'suv',\n",
    "                    '13': 'van',\n",
    "                    '7' : 'other'} "
   ]
  },
  {
   "cell_type": "code",
   "execution_count": 9,
   "metadata": {},
   "outputs": [],
   "source": [
    "# Analysing urls for the diffenret pages:\n",
    "# url_pag1 = \"https://www.autoscout24.es/lst/?sort=standard&desc=0&ustate=N%2CU&size=20&page=1&cy=E&atype=C&recommended_sorting_based_id=add4f573-8a91-417b-8217-546c0129def6&\"\n",
    "# url_pag2 = \"https://www.autoscout24.es/lst/?sort=standard&desc=0&ustate=N%2CU&size=20&page=2&cy=E&atype=C&recommended_sorting_based_id=add4f573-8a91-417b-8217-546c0129def6&\"\n",
    "# url_pag3 = \"https://www.autoscout24.es/lst/?sort=standard&desc=0&ustate=N%2CU&size=20&page=3&cy=E&atype=C&recommended_sorting_based_id=add4f573-8a91-417b-8217-546c0129def6&\"\n",
    "\n",
    "# Max page per url = 20 (start: page 1, stop: page 21 -1, step: 1 by 1 as the url changes from page=n to page=n+1 from one page to the following\n",
    "\n",
    "all_pages = np.arange(1,21,1)"
   ]
  },
  {
   "cell_type": "code",
   "execution_count": 10,
   "metadata": {},
   "outputs": [],
   "source": [
    "all_kms = np.arange(10000,1010000,10000)"
   ]
  },
  {
   "cell_type": "code",
   "execution_count": 11,
   "metadata": {},
   "outputs": [],
   "source": [
    "#Defining columns for Dealer cars\n",
    "title = []\n",
    "version = []\n",
    "year = []\n",
    "kms = []\n",
    "hp = []\n",
    "gear = []\n",
    "fuel = []\n",
    "fuel_cons = []\n",
    "co2 =[]\n",
    "prev_owners = []\n",
    "price = []\n",
    "location = []\n",
    "colour = []\n",
    "body_type = []\n",
    "seller_type = []"
   ]
  },
  {
   "cell_type": "code",
   "execution_count": null,
   "metadata": {},
   "outputs": [],
   "source": [
    "#Scrapping Dealers\n",
    "\n",
    "start = time()\n",
    "\n",
    "\n",
    "for car_colours in colours:\n",
    "    for car_types in body:\n",
    "        for all_km in all_kms:\n",
    "            for all_cars in all_pages:\n",
    "\n",
    "                all_cars_page = requests.get(\"https://www.autoscout24.es/lst/?sort=age&desc=1&custtype=D&bcol=\"+ str(car_colours) + \"&offer=D%2CJ%2CO%2CS%2CU&ustate=N%2CU&size=20&page=\" + str(all_cars) + \"&cy=E&kmto=\"+ str(all_km) + '&kmfrom='+str(all_km - 9999) + \"&body=\" + str(car_types) + \"&atype=C&recommended_sorting_based_id=29e07135-6b02-4c0a-ba49-da018c954028&\")\n",
    "                all_cars_soup = BeautifulSoup(all_cars_page.text,\"lxml\")\n",
    "                all_cars_ads = all_cars_soup.find_all('div', attrs={\"class\": \"cl-list-element cl-list-element-gap\"})\n",
    "\n",
    "                sleep(randint(2,10))\n",
    "\n",
    "                for element in all_cars_ads:\n",
    "                    try:\n",
    "                        Title = element.find('h2', attrs={\"class\":'cldt-summary-makemodel sc-font-bold sc-ellipsis'}).text\n",
    "                    except:\n",
    "                        Title = \"\"\n",
    "                    title.append(Title)\n",
    "\n",
    "                    try:\n",
    "                        Version = element.find('h2', attrs={\"class\":\"cldt-summary-version sc-ellipsis\"}).text\n",
    "                    except:\n",
    "                        Version = \"\"\n",
    "                    version.append(Version)\n",
    "                    try:\n",
    "                        Year = element.find('li', attrs={'data-type':'first-registration'}).text\n",
    "                    except:\n",
    "                        Year = \"\"\n",
    "                    year.append(Year)\n",
    "                    try:\n",
    "                        Kms = element.find('li', attrs={\"data-type\" : \"mileage\"}).text\n",
    "                    except:\n",
    "                        Kms = \"\"\n",
    "                    kms.append(Kms)\n",
    "\n",
    "                    try:\n",
    "                        Gear = element.find('li', attrs={\"data-type\":\"transmission-type\"}).text\n",
    "                    except:\n",
    "                        Gear = \"\"\n",
    "                    gear.append(Gear)\n",
    "\n",
    "                    try:\n",
    "                        Fuel = element.find('li', attrs={\"class\":\"summary_item_no_bottom_line\"}).text\n",
    "                    except:\n",
    "                        Fuel = \"\"\n",
    "                    fuel.append(Fuel)\n",
    "\n",
    "                    try:\n",
    "                        Fuel_cons = element.find('li', attrs={\"data-type\":\"combined-consumption\"}).text\n",
    "                    except:\n",
    "                        Fuel_cons = \"\"\n",
    "                    fuel_cons.append(Fuel_cons)\n",
    "\n",
    "                    try:\n",
    "                        Co2 = element.find('li', attrs={\"data-type\":\"co2-emission\"}).text\n",
    "                    except:\n",
    "                        Co2 = \"\"\n",
    "                    co2.append(Co2)\n",
    "\n",
    "                    try:\n",
    "                        Prev_owners = element.find('li', attrs={\"data-type\" : \"previous-owners\"}).text\n",
    "                    except:\n",
    "                        Prev_owners = \"\"\n",
    "                    prev_owners.append(Prev_owners)\n",
    "                    try:\n",
    "                        Price = element.find('span', attrs={\"class\":\"cldt-price sc-font-xl sc-font-bold\"}).text\n",
    "                    except:\n",
    "                        Price = \"\"\n",
    "                    price.append(Price)\n",
    "\n",
    "                    try:\n",
    "                        Hp = element.find('li', text =re.compile(r'CV')).text\n",
    "                    except:\n",
    "                        Hp = \"\"\n",
    "                    hp.append(Hp)\n",
    "\n",
    "                    try:\n",
    "                        Location = element.find('span', attrs={\"class\":\"cldf-summary-seller-contact-zip-city\"}).text\n",
    "                    except:\n",
    "                        Location = \"\"\n",
    "                    location.append(Location)\n",
    "\n",
    "                    try:\n",
    "                        Car_colours = car_colours\n",
    "\n",
    "                    except :\n",
    "                        Car_colours = \"\"\n",
    "                    colour.append(Car_colours)\n",
    "\n",
    "                    try:\n",
    "                        Car_types = car_types\n",
    "                    except:\n",
    "                        Car_types = \"\"\n",
    "                    body_type.append(Car_types)\n",
    "\n",
    "                        \n",
    "                        \n",
    "                        \n",
    "end = time()\n",
    "\n",
    "print(end - start)"
   ]
  },
  {
   "cell_type": "code",
   "execution_count": null,
   "metadata": {},
   "outputs": [],
   "source": []
  },
  {
   "cell_type": "code",
   "execution_count": null,
   "metadata": {},
   "outputs": [],
   "source": [
    "#Creating the DataFrame\n",
    "dealer_cars_df = pd.DataFrame({\"Title\":title,\n",
    "                        \"Version\":version,\n",
    "                        \"Year\": year,\n",
    "                        \"Kms\": kms,\n",
    "                        \"Hp\": hp,\n",
    "                        \"Fuel_type\": fuel,\n",
    "                        \"Gear_type\": gear,\n",
    "                        \"Fuel_cons\": fuel_cons,\n",
    "                        \"CO2_g/Km\": co2,\n",
    "                        \"Previous_owners\": prev_owners,\n",
    "                        \"City_ZIP\" : location,\n",
    "                        \"Price_EUR\": price,\n",
    "                        \"Colour\": colour ,\n",
    "                        \"Type\" : body_type,\n",
    "                        \"Seller\" : \"D\"})\n",
    "\n",
    "dealer_cars_df"
   ]
  },
  {
   "cell_type": "code",
   "execution_count": null,
   "metadata": {},
   "outputs": [],
   "source": [
    "#Defining columns for Private cars\n",
    "title = []\n",
    "version = []\n",
    "year = []\n",
    "kms = []\n",
    "hp = []\n",
    "gear = []\n",
    "fuel = []\n",
    "fuel_cons = []\n",
    "co2 =[]\n",
    "prev_owners = []\n",
    "price = []\n",
    "location = []\n",
    "colour = []\n",
    "body_type = []\n",
    "seller_type = []\n",
    "\n"
   ]
  },
  {
   "cell_type": "code",
   "execution_count": null,
   "metadata": {},
   "outputs": [],
   "source": [
    "#Scrapping Private\n",
    "\n",
    "start = time()\n",
    "\n",
    "\n",
    "for car_colours in colours:\n",
    "    for car_types in body:\n",
    "        for all_cars in all_pages:\n",
    "\n",
    "            all_cars_page = requests.get(\"https://www.autoscout24.es/lst/?sort=age&desc=1&custtype=P&bcol=\"+ str(car_colours) + \"&offer=D%2CJ%2CO%2CS%2CU&ustate=N%2CU&size=20&page=\" + str(all_cars) + \"&cy=E&kmto=\"+ str(all_km) + '&kmfrom='+str(all_km - 9999) + \"&body=\" + str(car_types) + \"&atype=C&recommended_sorting_based_id=29e07135-6b02-4c0a-ba49-da018c954028&\")\n",
    "            all_cars_soup = BeautifulSoup(all_cars_page.text,\"lxml\")\n",
    "            all_cars_ads = all_cars_soup.find_all('div', attrs={\"class\": \"cl-list-element cl-list-element-gap\"})\n",
    "\n",
    "            sleep(randint(2,10))\n",
    "\n",
    "            for element in all_cars_ads:\n",
    "                try:\n",
    "                    Title = element.find('h2', attrs={\"class\":'cldt-summary-makemodel sc-font-bold sc-ellipsis'}).text\n",
    "                except:\n",
    "                    Title = \"\"\n",
    "                title.append(Title)\n",
    "\n",
    "                try:\n",
    "                    Version = element.find('h2', attrs={\"class\":\"cldt-summary-version sc-ellipsis\"}).text\n",
    "                except:\n",
    "                    Version = \"\"\n",
    "                version.append(Version)\n",
    "                try:\n",
    "                    Year = element.find('li', attrs={'data-type':'first-registration'}).text\n",
    "                except:\n",
    "                    Year = \"\"\n",
    "                year.append(Year)\n",
    "                try:\n",
    "                    Kms = element.find('li', attrs={\"data-type\" : \"mileage\"}).text\n",
    "                except:\n",
    "                    Kms = \"\"\n",
    "                kms.append(Kms)\n",
    "\n",
    "                try:\n",
    "                    Gear = element.find('li', attrs={\"data-type\":\"transmission-type\"}).text\n",
    "                except:\n",
    "                    Gear = \"\"\n",
    "                gear.append(Gear)\n",
    "\n",
    "                try:\n",
    "                    Fuel = element.find('li', attrs={\"class\":\"summary_item_no_bottom_line\"}).text\n",
    "                except:\n",
    "                    Fuel = \"\"\n",
    "                fuel.append(Fuel)\n",
    "\n",
    "                try:\n",
    "                    Fuel_cons = element.find('li', attrs={\"data-type\":\"combined-consumption\"}).text\n",
    "                except:\n",
    "                    Fuel_cons = \"\"\n",
    "                fuel_cons.append(Fuel_cons)\n",
    "\n",
    "                try:\n",
    "                    Co2 = element.find('li', attrs={\"data-type\":\"co2-emission\"}).text\n",
    "                except:\n",
    "                    Co2 = \"\"\n",
    "                co2.append(Co2)\n",
    "\n",
    "                try:\n",
    "                    Prev_owners = element.find('li', attrs={\"data-type\" : \"previous-owners\"}).text\n",
    "                except:\n",
    "                    Prev_owners = \"\"\n",
    "                prev_owners.append(Prev_owners)\n",
    "                try:\n",
    "                    Price = element.find('span', attrs={\"class\":\"cldt-price sc-font-xl sc-font-bold\"}).text\n",
    "                except:\n",
    "                    Price = \"\"\n",
    "                price.append(Price)\n",
    "\n",
    "                try:\n",
    "                    Hp = element.find('li', text =re.compile(r'CV')).text\n",
    "                except:\n",
    "                    Hp = \"\"\n",
    "                hp.append(Hp)\n",
    "\n",
    "                try:\n",
    "                    Location = element.find('span', attrs={\"class\":\"cldt-summary-seller-contact-zip-city\"}).text\n",
    "                except:\n",
    "                    Location = \"\"\n",
    "                location.append(Location)\n",
    "\n",
    "                try:\n",
    "                    Car_colours = car_colours\n",
    "\n",
    "                except :\n",
    "                    Car_colours = \"\"\n",
    "                colour.append(Car_colours)\n",
    "\n",
    "                try:\n",
    "                    Car_types = car_types\n",
    "                except:\n",
    "                    Car_types = \"\"\n",
    "                body_type.append(Car_types)\n",
    "\n",
    "                        \n",
    "                        \n",
    "                        \n",
    "end = time()\n",
    "\n",
    "print(end - start)"
   ]
  },
  {
   "cell_type": "code",
   "execution_count": null,
   "metadata": {},
   "outputs": [],
   "source": [
    "#Creating the DataFrame\n",
    "private_cars_df = pd.DataFrame({\"Title\":title,\n",
    "                        \"Version\":version,\n",
    "                        \"Year\": year,\n",
    "                        \"Kms\": kms,\n",
    "                        \"Hp\": hp,\n",
    "                        \"Fuel_type\": fuel,\n",
    "                        \"Gear_type\": gear,\n",
    "                        \"Fuel_cons\": fuel_cons,\n",
    "                        \"CO2_g/Km\": co2,\n",
    "                        \"Previous_owners\": prev_owners,\n",
    "                        \"City_ZIP\" : location,\n",
    "                        \"Price_EUR\": price,\n",
    "                        \"Colour\": colour ,\n",
    "                        \"Type\" : body_type,\n",
    "                        \"Seller\" : \"P\"})\n",
    "private_cars_df"
   ]
  },
  {
   "cell_type": "code",
   "execution_count": null,
   "metadata": {},
   "outputs": [],
   "source": [
    "#Mergin DataFrames \n",
    "all_cars_df = pd.concat([dealer_cars_df,\n",
    "                         private_cars_df], axis = 0)\n",
    "#Reset_index\n",
    "all_cars_df = all_cars_df.reset_index()"
   ]
  },
  {
   "cell_type": "code",
   "execution_count": null,
   "metadata": {},
   "outputs": [],
   "source": [
    "\n",
    "\n",
    "all_cars_df"
   ]
  },
  {
   "cell_type": "code",
   "execution_count": null,
   "metadata": {},
   "outputs": [],
   "source": [
    "all_cars_df.drop([\"index\"],axis = 1, inplace = True)"
   ]
  },
  {
   "cell_type": "code",
   "execution_count": null,
   "metadata": {},
   "outputs": [],
   "source": [
    "all_cars_df"
   ]
  },
  {
   "cell_type": "code",
   "execution_count": null,
   "metadata": {},
   "outputs": [],
   "source": [
    "all_cars_df.to_csv('/users/alfon/Desktop/Master/TFM/Csv/01.cars_raw_deff.csv', header=True, index=False)"
   ]
  }
 ],
 "metadata": {
  "kernelspec": {
   "display_name": "Python 3 (ipykernel)",
   "language": "python",
   "name": "python3"
  },
  "language_info": {
   "codemirror_mode": {
    "name": "ipython",
    "version": 3
   },
   "file_extension": ".py",
   "mimetype": "text/x-python",
   "name": "python",
   "nbconvert_exporter": "python",
   "pygments_lexer": "ipython3",
   "version": "3.9.7"
  }
 },
 "nbformat": 4,
 "nbformat_minor": 4
}
